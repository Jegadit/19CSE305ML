{
  "cells": [
    {
      "cell_type": "markdown",
      "metadata": {
        "id": "GxpRVmCHJspm"
      },
      "source": [
        "**Support Vector Machine (SVM) Classifier**"
      ]
    },
    {
      "cell_type": "code",
      "execution_count": 1,
      "metadata": {
        "id": "IlBToEbPJr_q"
      },
      "outputs": [],
      "source": [
        "## Importing Libraries\n",
        "\n",
        "import pandas as pd\n",
        "import numpy as np\n",
        "import matplotlib.pyplot as plt\n",
        "from sklearn.model_selection import train_test_split\n",
        "\n",
        "%matplotlib inline"
      ]
    },
    {
      "cell_type": "code",
      "execution_count": 2,
      "metadata": {
        "id": "jQHuT4SsKB8w"
      },
      "outputs": [],
      "source": [
        "## Loading the dataset\n",
        "\n",
        "from sklearn.datasets import load_iris\n",
        "iris = load_iris()"
      ]
    },
    {
      "cell_type": "code",
      "execution_count": 3,
      "metadata": {
        "colab": {
          "base_uri": "https://localhost:8080/"
        },
        "id": "Mot2mVy9KHcC",
        "outputId": "1cda3550-e5fb-48dd-e46c-d00e631dcd3f"
      },
      "outputs": [
        {
          "data": {
            "text/plain": [
              "['sepal length (cm)',\n",
              " 'sepal width (cm)',\n",
              " 'petal length (cm)',\n",
              " 'petal width (cm)']"
            ]
          },
          "execution_count": 3,
          "metadata": {},
          "output_type": "execute_result"
        }
      ],
      "source": [
        "## Displaying Input Variables\n",
        "\n",
        "iris.feature_names"
      ]
    },
    {
      "cell_type": "code",
      "execution_count": 4,
      "metadata": {
        "colab": {
          "base_uri": "https://localhost:8080/"
        },
        "id": "p9Qea280KLS6",
        "outputId": "96f0719c-a778-44f9-a248-d99d663a61f8"
      },
      "outputs": [
        {
          "data": {
            "text/plain": [
              "array(['setosa', 'versicolor', 'virginica'], dtype='<U10')"
            ]
          },
          "execution_count": 4,
          "metadata": {},
          "output_type": "execute_result"
        }
      ],
      "source": [
        "## Displaying the Output Variable\n",
        "\n",
        "iris.target_names"
      ]
    },
    {
      "cell_type": "code",
      "execution_count": 5,
      "metadata": {
        "colab": {
          "base_uri": "https://localhost:8080/",
          "height": 206
        },
        "id": "m6RjaphQKO2a",
        "outputId": "e83b3dd4-1763-407e-d1b2-760a78730b83"
      },
      "outputs": [
        {
          "data": {
            "text/html": [
              "<div>\n",
              "<style scoped>\n",
              "    .dataframe tbody tr th:only-of-type {\n",
              "        vertical-align: middle;\n",
              "    }\n",
              "\n",
              "    .dataframe tbody tr th {\n",
              "        vertical-align: top;\n",
              "    }\n",
              "\n",
              "    .dataframe thead th {\n",
              "        text-align: right;\n",
              "    }\n",
              "</style>\n",
              "<table border=\"1\" class=\"dataframe\">\n",
              "  <thead>\n",
              "    <tr style=\"text-align: right;\">\n",
              "      <th></th>\n",
              "      <th>sepal length (cm)</th>\n",
              "      <th>sepal width (cm)</th>\n",
              "      <th>petal length (cm)</th>\n",
              "      <th>petal width (cm)</th>\n",
              "    </tr>\n",
              "  </thead>\n",
              "  <tbody>\n",
              "    <tr>\n",
              "      <th>0</th>\n",
              "      <td>5.1</td>\n",
              "      <td>3.5</td>\n",
              "      <td>1.4</td>\n",
              "      <td>0.2</td>\n",
              "    </tr>\n",
              "    <tr>\n",
              "      <th>1</th>\n",
              "      <td>4.9</td>\n",
              "      <td>3.0</td>\n",
              "      <td>1.4</td>\n",
              "      <td>0.2</td>\n",
              "    </tr>\n",
              "    <tr>\n",
              "      <th>2</th>\n",
              "      <td>4.7</td>\n",
              "      <td>3.2</td>\n",
              "      <td>1.3</td>\n",
              "      <td>0.2</td>\n",
              "    </tr>\n",
              "    <tr>\n",
              "      <th>3</th>\n",
              "      <td>4.6</td>\n",
              "      <td>3.1</td>\n",
              "      <td>1.5</td>\n",
              "      <td>0.2</td>\n",
              "    </tr>\n",
              "    <tr>\n",
              "      <th>4</th>\n",
              "      <td>5.0</td>\n",
              "      <td>3.6</td>\n",
              "      <td>1.4</td>\n",
              "      <td>0.2</td>\n",
              "    </tr>\n",
              "  </tbody>\n",
              "</table>\n",
              "</div>"
            ],
            "text/plain": [
              "   sepal length (cm)  sepal width (cm)  petal length (cm)  petal width (cm)\n",
              "0                5.1               3.5                1.4               0.2\n",
              "1                4.9               3.0                1.4               0.2\n",
              "2                4.7               3.2                1.3               0.2\n",
              "3                4.6               3.1                1.5               0.2\n",
              "4                5.0               3.6                1.4               0.2"
            ]
          },
          "execution_count": 5,
          "metadata": {},
          "output_type": "execute_result"
        }
      ],
      "source": [
        "## Creating a Dataframe out of the dataset loaded\n",
        "\n",
        "df = pd.DataFrame(iris.data,columns=iris.feature_names)\n",
        "df.head()"
      ]
    },
    {
      "cell_type": "code",
      "execution_count": 6,
      "metadata": {
        "colab": {
          "base_uri": "https://localhost:8080/",
          "height": 206
        },
        "id": "GqbLcP1_KYhQ",
        "outputId": "199b4534-dc0d-441a-87bd-0282b3a441c4"
      },
      "outputs": [
        {
          "data": {
            "text/html": [
              "<div>\n",
              "<style scoped>\n",
              "    .dataframe tbody tr th:only-of-type {\n",
              "        vertical-align: middle;\n",
              "    }\n",
              "\n",
              "    .dataframe tbody tr th {\n",
              "        vertical-align: top;\n",
              "    }\n",
              "\n",
              "    .dataframe thead th {\n",
              "        text-align: right;\n",
              "    }\n",
              "</style>\n",
              "<table border=\"1\" class=\"dataframe\">\n",
              "  <thead>\n",
              "    <tr style=\"text-align: right;\">\n",
              "      <th></th>\n",
              "      <th>sepal length (cm)</th>\n",
              "      <th>sepal width (cm)</th>\n",
              "      <th>petal length (cm)</th>\n",
              "      <th>petal width (cm)</th>\n",
              "      <th>target</th>\n",
              "    </tr>\n",
              "  </thead>\n",
              "  <tbody>\n",
              "    <tr>\n",
              "      <th>0</th>\n",
              "      <td>5.1</td>\n",
              "      <td>3.5</td>\n",
              "      <td>1.4</td>\n",
              "      <td>0.2</td>\n",
              "      <td>0</td>\n",
              "    </tr>\n",
              "    <tr>\n",
              "      <th>1</th>\n",
              "      <td>4.9</td>\n",
              "      <td>3.0</td>\n",
              "      <td>1.4</td>\n",
              "      <td>0.2</td>\n",
              "      <td>0</td>\n",
              "    </tr>\n",
              "    <tr>\n",
              "      <th>2</th>\n",
              "      <td>4.7</td>\n",
              "      <td>3.2</td>\n",
              "      <td>1.3</td>\n",
              "      <td>0.2</td>\n",
              "      <td>0</td>\n",
              "    </tr>\n",
              "    <tr>\n",
              "      <th>3</th>\n",
              "      <td>4.6</td>\n",
              "      <td>3.1</td>\n",
              "      <td>1.5</td>\n",
              "      <td>0.2</td>\n",
              "      <td>0</td>\n",
              "    </tr>\n",
              "    <tr>\n",
              "      <th>4</th>\n",
              "      <td>5.0</td>\n",
              "      <td>3.6</td>\n",
              "      <td>1.4</td>\n",
              "      <td>0.2</td>\n",
              "      <td>0</td>\n",
              "    </tr>\n",
              "  </tbody>\n",
              "</table>\n",
              "</div>"
            ],
            "text/plain": [
              "   sepal length (cm)  sepal width (cm)  petal length (cm)  petal width (cm)  \\\n",
              "0                5.1               3.5                1.4               0.2   \n",
              "1                4.9               3.0                1.4               0.2   \n",
              "2                4.7               3.2                1.3               0.2   \n",
              "3                4.6               3.1                1.5               0.2   \n",
              "4                5.0               3.6                1.4               0.2   \n",
              "\n",
              "   target  \n",
              "0       0  \n",
              "1       0  \n",
              "2       0  \n",
              "3       0  \n",
              "4       0  "
            ]
          },
          "execution_count": 6,
          "metadata": {},
          "output_type": "execute_result"
        }
      ],
      "source": [
        "df['target'] = iris.target\n",
        "df.head()"
      ]
    },
    {
      "cell_type": "code",
      "execution_count": 7,
      "metadata": {
        "colab": {
          "base_uri": "https://localhost:8080/",
          "height": 206
        },
        "id": "oO4LGglPKc-c",
        "outputId": "7e33aa87-e03c-4cb3-d3f0-265c6fdf5f21"
      },
      "outputs": [
        {
          "data": {
            "text/html": [
              "<div>\n",
              "<style scoped>\n",
              "    .dataframe tbody tr th:only-of-type {\n",
              "        vertical-align: middle;\n",
              "    }\n",
              "\n",
              "    .dataframe tbody tr th {\n",
              "        vertical-align: top;\n",
              "    }\n",
              "\n",
              "    .dataframe thead th {\n",
              "        text-align: right;\n",
              "    }\n",
              "</style>\n",
              "<table border=\"1\" class=\"dataframe\">\n",
              "  <thead>\n",
              "    <tr style=\"text-align: right;\">\n",
              "      <th></th>\n",
              "      <th>sepal length (cm)</th>\n",
              "      <th>sepal width (cm)</th>\n",
              "      <th>petal length (cm)</th>\n",
              "      <th>petal width (cm)</th>\n",
              "      <th>target</th>\n",
              "    </tr>\n",
              "  </thead>\n",
              "  <tbody>\n",
              "    <tr>\n",
              "      <th>50</th>\n",
              "      <td>7.0</td>\n",
              "      <td>3.2</td>\n",
              "      <td>4.7</td>\n",
              "      <td>1.4</td>\n",
              "      <td>1</td>\n",
              "    </tr>\n",
              "    <tr>\n",
              "      <th>51</th>\n",
              "      <td>6.4</td>\n",
              "      <td>3.2</td>\n",
              "      <td>4.5</td>\n",
              "      <td>1.5</td>\n",
              "      <td>1</td>\n",
              "    </tr>\n",
              "    <tr>\n",
              "      <th>52</th>\n",
              "      <td>6.9</td>\n",
              "      <td>3.1</td>\n",
              "      <td>4.9</td>\n",
              "      <td>1.5</td>\n",
              "      <td>1</td>\n",
              "    </tr>\n",
              "    <tr>\n",
              "      <th>53</th>\n",
              "      <td>5.5</td>\n",
              "      <td>2.3</td>\n",
              "      <td>4.0</td>\n",
              "      <td>1.3</td>\n",
              "      <td>1</td>\n",
              "    </tr>\n",
              "    <tr>\n",
              "      <th>54</th>\n",
              "      <td>6.5</td>\n",
              "      <td>2.8</td>\n",
              "      <td>4.6</td>\n",
              "      <td>1.5</td>\n",
              "      <td>1</td>\n",
              "    </tr>\n",
              "  </tbody>\n",
              "</table>\n",
              "</div>"
            ],
            "text/plain": [
              "    sepal length (cm)  sepal width (cm)  petal length (cm)  petal width (cm)  \\\n",
              "50                7.0               3.2                4.7               1.4   \n",
              "51                6.4               3.2                4.5               1.5   \n",
              "52                6.9               3.1                4.9               1.5   \n",
              "53                5.5               2.3                4.0               1.3   \n",
              "54                6.5               2.8                4.6               1.5   \n",
              "\n",
              "    target  \n",
              "50       1  \n",
              "51       1  \n",
              "52       1  \n",
              "53       1  \n",
              "54       1  "
            ]
          },
          "execution_count": 7,
          "metadata": {},
          "output_type": "execute_result"
        }
      ],
      "source": [
        "df[df.target==1].head()"
      ]
    },
    {
      "cell_type": "code",
      "execution_count": 8,
      "metadata": {
        "colab": {
          "base_uri": "https://localhost:8080/",
          "height": 206
        },
        "id": "vY0FsCZZKhyF",
        "outputId": "a704023d-d0af-40f6-dcab-4924f800853c"
      },
      "outputs": [
        {
          "data": {
            "text/html": [
              "<div>\n",
              "<style scoped>\n",
              "    .dataframe tbody tr th:only-of-type {\n",
              "        vertical-align: middle;\n",
              "    }\n",
              "\n",
              "    .dataframe tbody tr th {\n",
              "        vertical-align: top;\n",
              "    }\n",
              "\n",
              "    .dataframe thead th {\n",
              "        text-align: right;\n",
              "    }\n",
              "</style>\n",
              "<table border=\"1\" class=\"dataframe\">\n",
              "  <thead>\n",
              "    <tr style=\"text-align: right;\">\n",
              "      <th></th>\n",
              "      <th>sepal length (cm)</th>\n",
              "      <th>sepal width (cm)</th>\n",
              "      <th>petal length (cm)</th>\n",
              "      <th>petal width (cm)</th>\n",
              "      <th>target</th>\n",
              "    </tr>\n",
              "  </thead>\n",
              "  <tbody>\n",
              "    <tr>\n",
              "      <th>100</th>\n",
              "      <td>6.3</td>\n",
              "      <td>3.3</td>\n",
              "      <td>6.0</td>\n",
              "      <td>2.5</td>\n",
              "      <td>2</td>\n",
              "    </tr>\n",
              "    <tr>\n",
              "      <th>101</th>\n",
              "      <td>5.8</td>\n",
              "      <td>2.7</td>\n",
              "      <td>5.1</td>\n",
              "      <td>1.9</td>\n",
              "      <td>2</td>\n",
              "    </tr>\n",
              "    <tr>\n",
              "      <th>102</th>\n",
              "      <td>7.1</td>\n",
              "      <td>3.0</td>\n",
              "      <td>5.9</td>\n",
              "      <td>2.1</td>\n",
              "      <td>2</td>\n",
              "    </tr>\n",
              "    <tr>\n",
              "      <th>103</th>\n",
              "      <td>6.3</td>\n",
              "      <td>2.9</td>\n",
              "      <td>5.6</td>\n",
              "      <td>1.8</td>\n",
              "      <td>2</td>\n",
              "    </tr>\n",
              "    <tr>\n",
              "      <th>104</th>\n",
              "      <td>6.5</td>\n",
              "      <td>3.0</td>\n",
              "      <td>5.8</td>\n",
              "      <td>2.2</td>\n",
              "      <td>2</td>\n",
              "    </tr>\n",
              "  </tbody>\n",
              "</table>\n",
              "</div>"
            ],
            "text/plain": [
              "     sepal length (cm)  sepal width (cm)  petal length (cm)  petal width (cm)  \\\n",
              "100                6.3               3.3                6.0               2.5   \n",
              "101                5.8               2.7                5.1               1.9   \n",
              "102                7.1               3.0                5.9               2.1   \n",
              "103                6.3               2.9                5.6               1.8   \n",
              "104                6.5               3.0                5.8               2.2   \n",
              "\n",
              "     target  \n",
              "100       2  \n",
              "101       2  \n",
              "102       2  \n",
              "103       2  \n",
              "104       2  "
            ]
          },
          "execution_count": 8,
          "metadata": {},
          "output_type": "execute_result"
        }
      ],
      "source": [
        "df[df.target==2].head()"
      ]
    },
    {
      "cell_type": "code",
      "execution_count": 9,
      "metadata": {
        "colab": {
          "base_uri": "https://localhost:8080/",
          "height": 206
        },
        "id": "1M77ILdLKlYx",
        "outputId": "12ddbee4-1444-4a44-f7da-ad1bfe436b8a"
      },
      "outputs": [
        {
          "data": {
            "text/html": [
              "<div>\n",
              "<style scoped>\n",
              "    .dataframe tbody tr th:only-of-type {\n",
              "        vertical-align: middle;\n",
              "    }\n",
              "\n",
              "    .dataframe tbody tr th {\n",
              "        vertical-align: top;\n",
              "    }\n",
              "\n",
              "    .dataframe thead th {\n",
              "        text-align: right;\n",
              "    }\n",
              "</style>\n",
              "<table border=\"1\" class=\"dataframe\">\n",
              "  <thead>\n",
              "    <tr style=\"text-align: right;\">\n",
              "      <th></th>\n",
              "      <th>sepal length (cm)</th>\n",
              "      <th>sepal width (cm)</th>\n",
              "      <th>petal length (cm)</th>\n",
              "      <th>petal width (cm)</th>\n",
              "      <th>target</th>\n",
              "      <th>flower_name</th>\n",
              "    </tr>\n",
              "  </thead>\n",
              "  <tbody>\n",
              "    <tr>\n",
              "      <th>0</th>\n",
              "      <td>5.1</td>\n",
              "      <td>3.5</td>\n",
              "      <td>1.4</td>\n",
              "      <td>0.2</td>\n",
              "      <td>0</td>\n",
              "      <td>setosa</td>\n",
              "    </tr>\n",
              "    <tr>\n",
              "      <th>1</th>\n",
              "      <td>4.9</td>\n",
              "      <td>3.0</td>\n",
              "      <td>1.4</td>\n",
              "      <td>0.2</td>\n",
              "      <td>0</td>\n",
              "      <td>setosa</td>\n",
              "    </tr>\n",
              "    <tr>\n",
              "      <th>2</th>\n",
              "      <td>4.7</td>\n",
              "      <td>3.2</td>\n",
              "      <td>1.3</td>\n",
              "      <td>0.2</td>\n",
              "      <td>0</td>\n",
              "      <td>setosa</td>\n",
              "    </tr>\n",
              "    <tr>\n",
              "      <th>3</th>\n",
              "      <td>4.6</td>\n",
              "      <td>3.1</td>\n",
              "      <td>1.5</td>\n",
              "      <td>0.2</td>\n",
              "      <td>0</td>\n",
              "      <td>setosa</td>\n",
              "    </tr>\n",
              "    <tr>\n",
              "      <th>4</th>\n",
              "      <td>5.0</td>\n",
              "      <td>3.6</td>\n",
              "      <td>1.4</td>\n",
              "      <td>0.2</td>\n",
              "      <td>0</td>\n",
              "      <td>setosa</td>\n",
              "    </tr>\n",
              "  </tbody>\n",
              "</table>\n",
              "</div>"
            ],
            "text/plain": [
              "   sepal length (cm)  sepal width (cm)  petal length (cm)  petal width (cm)  \\\n",
              "0                5.1               3.5                1.4               0.2   \n",
              "1                4.9               3.0                1.4               0.2   \n",
              "2                4.7               3.2                1.3               0.2   \n",
              "3                4.6               3.1                1.5               0.2   \n",
              "4                5.0               3.6                1.4               0.2   \n",
              "\n",
              "   target flower_name  \n",
              "0       0      setosa  \n",
              "1       0      setosa  \n",
              "2       0      setosa  \n",
              "3       0      setosa  \n",
              "4       0      setosa  "
            ]
          },
          "execution_count": 9,
          "metadata": {},
          "output_type": "execute_result"
        }
      ],
      "source": [
        "df['flower_name'] =df.target.apply(lambda x: iris.target_names[x])\n",
        "df.head()"
      ]
    },
    {
      "cell_type": "code",
      "execution_count": 10,
      "metadata": {
        "colab": {
          "base_uri": "https://localhost:8080/",
          "height": 363
        },
        "id": "YbL-xVp2Kw_x",
        "outputId": "127ad4a6-2d96-4ce2-de68-18322034f842"
      },
      "outputs": [
        {
          "data": {
            "text/html": [
              "<div>\n",
              "<style scoped>\n",
              "    .dataframe tbody tr th:only-of-type {\n",
              "        vertical-align: middle;\n",
              "    }\n",
              "\n",
              "    .dataframe tbody tr th {\n",
              "        vertical-align: top;\n",
              "    }\n",
              "\n",
              "    .dataframe thead th {\n",
              "        text-align: right;\n",
              "    }\n",
              "</style>\n",
              "<table border=\"1\" class=\"dataframe\">\n",
              "  <thead>\n",
              "    <tr style=\"text-align: right;\">\n",
              "      <th></th>\n",
              "      <th>sepal length (cm)</th>\n",
              "      <th>sepal width (cm)</th>\n",
              "      <th>petal length (cm)</th>\n",
              "      <th>petal width (cm)</th>\n",
              "      <th>target</th>\n",
              "      <th>flower_name</th>\n",
              "    </tr>\n",
              "  </thead>\n",
              "  <tbody>\n",
              "    <tr>\n",
              "      <th>45</th>\n",
              "      <td>4.8</td>\n",
              "      <td>3.0</td>\n",
              "      <td>1.4</td>\n",
              "      <td>0.3</td>\n",
              "      <td>0</td>\n",
              "      <td>setosa</td>\n",
              "    </tr>\n",
              "    <tr>\n",
              "      <th>46</th>\n",
              "      <td>5.1</td>\n",
              "      <td>3.8</td>\n",
              "      <td>1.6</td>\n",
              "      <td>0.2</td>\n",
              "      <td>0</td>\n",
              "      <td>setosa</td>\n",
              "    </tr>\n",
              "    <tr>\n",
              "      <th>47</th>\n",
              "      <td>4.6</td>\n",
              "      <td>3.2</td>\n",
              "      <td>1.4</td>\n",
              "      <td>0.2</td>\n",
              "      <td>0</td>\n",
              "      <td>setosa</td>\n",
              "    </tr>\n",
              "    <tr>\n",
              "      <th>48</th>\n",
              "      <td>5.3</td>\n",
              "      <td>3.7</td>\n",
              "      <td>1.5</td>\n",
              "      <td>0.2</td>\n",
              "      <td>0</td>\n",
              "      <td>setosa</td>\n",
              "    </tr>\n",
              "    <tr>\n",
              "      <th>49</th>\n",
              "      <td>5.0</td>\n",
              "      <td>3.3</td>\n",
              "      <td>1.4</td>\n",
              "      <td>0.2</td>\n",
              "      <td>0</td>\n",
              "      <td>setosa</td>\n",
              "    </tr>\n",
              "    <tr>\n",
              "      <th>50</th>\n",
              "      <td>7.0</td>\n",
              "      <td>3.2</td>\n",
              "      <td>4.7</td>\n",
              "      <td>1.4</td>\n",
              "      <td>1</td>\n",
              "      <td>versicolor</td>\n",
              "    </tr>\n",
              "    <tr>\n",
              "      <th>51</th>\n",
              "      <td>6.4</td>\n",
              "      <td>3.2</td>\n",
              "      <td>4.5</td>\n",
              "      <td>1.5</td>\n",
              "      <td>1</td>\n",
              "      <td>versicolor</td>\n",
              "    </tr>\n",
              "    <tr>\n",
              "      <th>52</th>\n",
              "      <td>6.9</td>\n",
              "      <td>3.1</td>\n",
              "      <td>4.9</td>\n",
              "      <td>1.5</td>\n",
              "      <td>1</td>\n",
              "      <td>versicolor</td>\n",
              "    </tr>\n",
              "    <tr>\n",
              "      <th>53</th>\n",
              "      <td>5.5</td>\n",
              "      <td>2.3</td>\n",
              "      <td>4.0</td>\n",
              "      <td>1.3</td>\n",
              "      <td>1</td>\n",
              "      <td>versicolor</td>\n",
              "    </tr>\n",
              "    <tr>\n",
              "      <th>54</th>\n",
              "      <td>6.5</td>\n",
              "      <td>2.8</td>\n",
              "      <td>4.6</td>\n",
              "      <td>1.5</td>\n",
              "      <td>1</td>\n",
              "      <td>versicolor</td>\n",
              "    </tr>\n",
              "  </tbody>\n",
              "</table>\n",
              "</div>"
            ],
            "text/plain": [
              "    sepal length (cm)  sepal width (cm)  petal length (cm)  petal width (cm)  \\\n",
              "45                4.8               3.0                1.4               0.3   \n",
              "46                5.1               3.8                1.6               0.2   \n",
              "47                4.6               3.2                1.4               0.2   \n",
              "48                5.3               3.7                1.5               0.2   \n",
              "49                5.0               3.3                1.4               0.2   \n",
              "50                7.0               3.2                4.7               1.4   \n",
              "51                6.4               3.2                4.5               1.5   \n",
              "52                6.9               3.1                4.9               1.5   \n",
              "53                5.5               2.3                4.0               1.3   \n",
              "54                6.5               2.8                4.6               1.5   \n",
              "\n",
              "    target flower_name  \n",
              "45       0      setosa  \n",
              "46       0      setosa  \n",
              "47       0      setosa  \n",
              "48       0      setosa  \n",
              "49       0      setosa  \n",
              "50       1  versicolor  \n",
              "51       1  versicolor  \n",
              "52       1  versicolor  \n",
              "53       1  versicolor  \n",
              "54       1  versicolor  "
            ]
          },
          "execution_count": 10,
          "metadata": {},
          "output_type": "execute_result"
        }
      ],
      "source": [
        "df[45:55]"
      ]
    },
    {
      "cell_type": "code",
      "execution_count": 11,
      "metadata": {
        "id": "MMo2QI_mKzx0"
      },
      "outputs": [],
      "source": [
        "df0 = df[:50]\n",
        "df1 = df[50:100]\n",
        "df2 = df[100:]"
      ]
    },
    {
      "cell_type": "markdown",
      "metadata": {
        "id": "BCbJLLA5K7Qu"
      },
      "source": [
        "**Sepal length vs Sepal Width (Setosa vs Versicolor)**"
      ]
    },
    {
      "cell_type": "code",
      "execution_count": 12,
      "metadata": {
        "colab": {
          "base_uri": "https://localhost:8080/",
          "height": 300
        },
        "id": "0PSt5oUSK2GC",
        "outputId": "a56a41f9-ab00-4eb0-e4e0-d6eb16588b21"
      },
      "outputs": [
        {
          "data": {
            "text/plain": [
              "<matplotlib.collections.PathCollection at 0x1787f4914f0>"
            ]
          },
          "execution_count": 12,
          "metadata": {},
          "output_type": "execute_result"
        },
        {
          "data": {
            "image/png": "[encoded data removed]",
            "text/plain": [
              "<Figure size 432x288 with 1 Axes>"
            ]
          },
          "metadata": {
            "needs_background": "light"
          },
          "output_type": "display_data"
        }
      ],
      "source": [
        "plt.xlabel('Sepal Length')\n",
        "plt.ylabel('Sepal Width')\n",
        "plt.scatter(df0['sepal length (cm)'], df0['sepal width (cm)'],color=\"green\",marker='+')\n",
        "plt.scatter(df1['sepal length (cm)'], df1['sepal width (cm)'],color=\"blue\",marker='.')"
      ]
    },
    {
      "cell_type": "markdown",
      "metadata": {
        "id": "uMb7B7YvLBFK"
      },
      "source": [
        "**Petal length vs Pepal Width (Setosa vs Versicolor)**"
      ]
    },
    {
      "cell_type": "code",
      "execution_count": 13,
      "metadata": {
        "colab": {
          "base_uri": "https://localhost:8080/",
          "height": 297
        },
        "id": "k_0uVsMNLAOg",
        "outputId": "97830bfd-0d4c-47c0-ac6a-247bd3091c23"
      },
      "outputs": [
        {
          "data": {
            "text/plain": [
              "<matplotlib.collections.PathCollection at 0x1787f52ca30>"
            ]
          },
          "execution_count": 13,
          "metadata": {},
          "output_type": "execute_result"
        },
        {
          "data": {
            "image/png": "[encoded data removed]",
            "text/plain": [
              "<Figure size 432x288 with 1 Axes>"
            ]
          },
          "metadata": {
            "needs_background": "light"
          },
          "output_type": "display_data"
        }
      ],
      "source": [
        "plt.xlabel('Petal Length')\n",
        "plt.ylabel('Petal Width')\n",
        "plt.scatter(df0['petal length (cm)'], df0['petal width (cm)'],color=\"green\",marker='+')\n",
        "plt.scatter(df1['petal length (cm)'], df1['petal width (cm)'],color=\"blue\",marker='.')"
      ]
    },
    {
      "cell_type": "markdown",
      "metadata": {
        "id": "04ju8k2jLKk3"
      },
      "source": [
        "**Train Using Support Vector Machine (SVM)**"
      ]
    },
    {
      "cell_type": "code",
      "execution_count": 14,
      "metadata": {
        "id": "xE77og-tLHsa"
      },
      "outputs": [],
      "source": [
        "## Separating Input/Output Varaiables and Creating Training-Testing Sets\n",
        "\n",
        "X = df.drop(['target','flower_name'], axis='columns')\n",
        "y = df.target\n",
        "\n",
        "X_train, X_test, y_train, y_test = train_test_split(X, y, test_size=0.2)"
      ]
    },
    {
      "cell_type": "code",
      "execution_count": 15,
      "metadata": {
        "id": "Bk9nXT03LU59"
      },
      "outputs": [],
      "source": [
        "from sklearn.svm import SVC\n",
        "model = SVC()"
      ]
    },
    {
      "cell_type": "code",
      "execution_count": 16,
      "metadata": {
        "colab": {
          "base_uri": "https://localhost:8080/"
        },
        "id": "phAMw7veLXwF",
        "outputId": "3944e5e6-e98b-4d65-d68e-b388e04fa083"
      },
      "outputs": [
        {
          "data": {
            "text/html": [
              "<style>#sk-container-id-1 {color: black;background-color: white;}#sk-container-id-1 pre{padding: 0;}#sk-container-id-1 div.sk-toggleable {background-color: white;}#sk-container-id-1 label.sk-toggleable__label {cursor: pointer;display: block;width: 100%;margin-bottom: 0;padding: 0.3em;box-sizing: border-box;text-align: center;}#sk-container-id-1 label.sk-toggleable__label-arrow:before {content: \"▸\";float: left;margin-right: 0.25em;color: #696969;}#sk-container-id-1 label.sk-toggleable__label-arrow:hover:before {color: black;}#sk-container-id-1 div.sk-estimator:hover label.sk-toggleable__label-arrow:before {color: black;}#sk-container-id-1 div.sk-toggleable__content {max-height: 0;max-width: 0;overflow: hidden;text-align: left;background-color: #f0f8ff;}#sk-container-id-1 div.sk-toggleable__content pre {margin: 0.2em;color: black;border-radius: 0.25em;background-color: #f0f8ff;}#sk-container-id-1 input.sk-toggleable__control:checked~div.sk-toggleable__content {max-height: 200px;max-width: 100%;overflow: auto;}#sk-container-id-1 input.sk-toggleable__control:checked~label.sk-toggleable__label-arrow:before {content: \"▾\";}#sk-container-id-1 div.sk-estimator input.sk-toggleable__control:checked~label.sk-toggleable__label {background-color: #d4ebff;}#sk-container-id-1 div.sk-label input.sk-toggleable__control:checked~label.sk-toggleable__label {background-color: #d4ebff;}#sk-container-id-1 input.sk-hidden--visually {border: 0;clip: rect(1px 1px 1px 1px);clip: rect(1px, 1px, 1px, 1px);height: 1px;margin: -1px;overflow: hidden;padding: 0;position: absolute;width: 1px;}#sk-container-id-1 div.sk-estimator {font-family: monospace;background-color: #f0f8ff;border: 1px dotted black;border-radius: 0.25em;box-sizing: border-box;margin-bottom: 0.5em;}#sk-container-id-1 div.sk-estimator:hover {background-color: #d4ebff;}#sk-container-id-1 div.sk-parallel-item::after {content: \"\";width: 100%;border-bottom: 1px solid gray;flex-grow: 1;}#sk-container-id-1 div.sk-label:hover label.sk-toggleable__label {background-color: #d4ebff;}#sk-container-id-1 div.sk-serial::before {content: \"\";position: absolute;border-left: 1px solid gray;box-sizing: border-box;top: 0;bottom: 0;left: 50%;z-index: 0;}#sk-container-id-1 div.sk-serial {display: flex;flex-direction: column;align-items: center;background-color: white;padding-right: 0.2em;padding-left: 0.2em;position: relative;}#sk-container-id-1 div.sk-item {position: relative;z-index: 1;}#sk-container-id-1 div.sk-parallel {display: flex;align-items: stretch;justify-content: center;background-color: white;position: relative;}#sk-container-id-1 div.sk-item::before, #sk-container-id-1 div.sk-parallel-item::before {content: \"\";position: absolute;border-left: 1px solid gray;box-sizing: border-box;top: 0;bottom: 0;left: 50%;z-index: -1;}#sk-container-id-1 div.sk-parallel-item {display: flex;flex-direction: column;z-index: 1;position: relative;background-color: white;}#sk-container-id-1 div.sk-parallel-item:first-child::after {align-self: flex-end;width: 50%;}#sk-container-id-1 div.sk-parallel-item:last-child::after {align-self: flex-start;width: 50%;}#sk-container-id-1 div.sk-parallel-item:only-child::after {width: 0;}#sk-container-id-1 div.sk-dashed-wrapped {border: 1px dashed gray;margin: 0 0.4em 0.5em 0.4em;box-sizing: border-box;padding-bottom: 0.4em;background-color: white;}#sk-container-id-1 div.sk-label label {font-family: monospace;font-weight: bold;display: inline-block;line-height: 1.2em;}#sk-container-id-1 div.sk-label-container {text-align: center;}#sk-container-id-1 div.sk-container {/* jupyter's `normalize.less` sets `[hidden] { display: none; }` but bootstrap.min.css set `[hidden] { display: none !important; }` so we also need the `!important` here to be able to override the default hidden behavior on the sphinx rendered scikit-learn.org. See: https://github.com/scikit-learn/scikit-learn/issues/21755 */display: inline-block !important;position: relative;}#sk-container-id-1 div.sk-text-repr-fallback {display: none;}</style><div id=\"sk-container-id-1\" class=\"sk-top-container\"><div class=\"sk-text-repr-fallback\"><pre>SVC()</pre><b>In a Jupyter environment, please rerun this cell to show the HTML representation or trust the notebook. <br />On GitHub, the HTML representation is unable to render, please try loading this page with nbviewer.org.</b></div><div class=\"sk-container\" hidden><div class=\"sk-item\"><div class=\"sk-estimator sk-toggleable\"><input class=\"sk-toggleable__control sk-hidden--visually\" id=\"sk-estimator-id-1\" type=\"checkbox\" checked><label for=\"sk-estimator-id-1\" class=\"sk-toggleable__label sk-toggleable__label-arrow\">SVC</label><div class=\"sk-toggleable__content\"><pre>SVC()</pre></div></div></div></div></div>"
            ],
            "text/plain": [
              "SVC()"
            ]
          },
          "execution_count": 16,
          "metadata": {},
          "output_type": "execute_result"
        }
      ],
      "source": [
        "model.fit(X_train, y_train)"
      ]
    },
    {
      "cell_type": "code",
      "execution_count": 17,
      "metadata": {
        "colab": {
          "base_uri": "https://localhost:8080/"
        },
        "id": "_Jrpk1A0La7E",
        "outputId": "34a4753f-4dc8-4fb8-fd1d-1ce0c82eaae9"
      },
      "outputs": [
        {
          "data": {
            "text/plain": [
              "0.9333333333333333"
            ]
          },
          "execution_count": 17,
          "metadata": {},
          "output_type": "execute_result"
        }
      ],
      "source": [
        "model.score(X_test, y_test)"
      ]
    },
    {
      "cell_type": "code",
      "execution_count": 18,
      "metadata": {
        "colab": {
          "base_uri": "https://localhost:8080/"
        },
        "id": "HCsJ_4FhLdF2",
        "outputId": "c88fe14c-c042-469f-fdeb-aa7587ea5cb6"
      },
      "outputs": [
        {
          "name": "stderr",
          "output_type": "stream",
          "text": [
            "c:\\Users\\Jegadit\\anaconda3\\lib\\site-packages\\sklearn\\base.py:450: UserWarning: X does not have valid feature names, but SVC was fitted with feature names\n",
            "  warnings.warn(\n"
          ]
        },
        {
          "data": {
            "text/plain": [
              "array([0])"
            ]
          },
          "execution_count": 18,
          "metadata": {},
          "output_type": "execute_result"
        }
      ],
      "source": [
        "model.predict([[4.8,3.0,1.5,0.3]])"
      ]
    },
    {
      "cell_type": "markdown",
      "metadata": {
        "id": "EgiWNNxVLlHV"
      },
      "source": [
        "**Parameter Tuning**"
      ]
    },
    {
      "cell_type": "markdown",
      "metadata": {
        "id": "2_E4YF29Xg2q"
      },
      "source": []
    },
    {
      "cell_type": "code",
      "execution_count": 19,
      "metadata": {
        "colab": {
          "base_uri": "https://localhost:8080/"
        },
        "id": "uSV0t3hALhOq",
        "outputId": "095ad9bf-c8ad-4bf2-bfbb-2ae00337f99f"
      },
      "outputs": [
        {
          "data": {
            "text/plain": [
              "0.9333333333333333"
            ]
          },
          "execution_count": 19,
          "metadata": {},
          "output_type": "execute_result"
        }
      ],
      "source": [
        "## 1. Regularization (C)\n",
        "\n",
        "model_C = SVC(C=1)\n",
        "model_C.fit(X_train, y_train)\n",
        "model_C.score(X_test, y_test)"
      ]
    },
    {
      "cell_type": "code",
      "execution_count": 20,
      "metadata": {
        "colab": {
          "base_uri": "https://localhost:8080/"
        },
        "id": "tNG80iSqLq1w",
        "outputId": "0f609b14-c4ab-4168-d197-301123dbbf7f"
      },
      "outputs": [
        {
          "data": {
            "text/plain": [
              "0.9333333333333333"
            ]
          },
          "execution_count": 20,
          "metadata": {},
          "output_type": "execute_result"
        }
      ],
      "source": [
        "model_C = SVC(C=10)\n",
        "model_C.fit(X_train, y_train)\n",
        "model_C.score(X_test, y_test)"
      ]
    },
    {
      "cell_type": "code",
      "execution_count": 21,
      "metadata": {
        "colab": {
          "base_uri": "https://localhost:8080/"
        },
        "id": "wehiz790LtS5",
        "outputId": "34f1b460-1974-4efc-ea1d-9544bad77b03"
      },
      "outputs": [
        {
          "data": {
            "text/plain": [
              "0.9666666666666667"
            ]
          },
          "execution_count": 21,
          "metadata": {},
          "output_type": "execute_result"
        }
      ],
      "source": [
        "## 2. Gamma\n",
        "\n",
        "model_g = SVC(gamma=10)\n",
        "model_g.fit(X_train, y_train)\n",
        "model_g.score(X_test, y_test)"
      ]
    },
    {
      "cell_type": "code",
      "execution_count": 22,
      "metadata": {
        "colab": {
          "base_uri": "https://localhost:8080/"
        },
        "id": "-G2mUDO2L1CK",
        "outputId": "3cfea136-2885-4107-c813-5ebaaaeb0cbc"
      },
      "outputs": [
        {
          "data": {
            "text/html": [
              "<style>#sk-container-id-2 {color: black;background-color: white;}#sk-container-id-2 pre{padding: 0;}#sk-container-id-2 div.sk-toggleable {background-color: white;}#sk-container-id-2 label.sk-toggleable__label {cursor: pointer;display: block;width: 100%;margin-bottom: 0;padding: 0.3em;box-sizing: border-box;text-align: center;}#sk-container-id-2 label.sk-toggleable__label-arrow:before {content: \"▸\";float: left;margin-right: 0.25em;color: #696969;}#sk-container-id-2 label.sk-toggleable__label-arrow:hover:before {color: black;}#sk-container-id-2 div.sk-estimator:hover label.sk-toggleable__label-arrow:before {color: black;}#sk-container-id-2 div.sk-toggleable__content {max-height: 0;max-width: 0;overflow: hidden;text-align: left;background-color: #f0f8ff;}#sk-container-id-2 div.sk-toggleable__content pre {margin: 0.2em;color: black;border-radius: 0.25em;background-color: #f0f8ff;}#sk-container-id-2 input.sk-toggleable__control:checked~div.sk-toggleable__content {max-height: 200px;max-width: 100%;overflow: auto;}#sk-container-id-2 input.sk-toggleable__control:checked~label.sk-toggleable__label-arrow:before {content: \"▾\";}#sk-container-id-2 div.sk-estimator input.sk-toggleable__control:checked~label.sk-toggleable__label {background-color: #d4ebff;}#sk-container-id-2 div.sk-label input.sk-toggleable__control:checked~label.sk-toggleable__label {background-color: #d4ebff;}#sk-container-id-2 input.sk-hidden--visually {border: 0;clip: rect(1px 1px 1px 1px);clip: rect(1px, 1px, 1px, 1px);height: 1px;margin: -1px;overflow: hidden;padding: 0;position: absolute;width: 1px;}#sk-container-id-2 div.sk-estimator {font-family: monospace;background-color: #f0f8ff;border: 1px dotted black;border-radius: 0.25em;box-sizing: border-box;margin-bottom: 0.5em;}#sk-container-id-2 div.sk-estimator:hover {background-color: #d4ebff;}#sk-container-id-2 div.sk-parallel-item::after {content: \"\";width: 100%;border-bottom: 1px solid gray;flex-grow: 1;}#sk-container-id-2 div.sk-label:hover label.sk-toggleable__label {background-color: #d4ebff;}#sk-container-id-2 div.sk-serial::before {content: \"\";position: absolute;border-left: 1px solid gray;box-sizing: border-box;top: 0;bottom: 0;left: 50%;z-index: 0;}#sk-container-id-2 div.sk-serial {display: flex;flex-direction: column;align-items: center;background-color: white;padding-right: 0.2em;padding-left: 0.2em;position: relative;}#sk-container-id-2 div.sk-item {position: relative;z-index: 1;}#sk-container-id-2 div.sk-parallel {display: flex;align-items: stretch;justify-content: center;background-color: white;position: relative;}#sk-container-id-2 div.sk-item::before, #sk-container-id-2 div.sk-parallel-item::before {content: \"\";position: absolute;border-left: 1px solid gray;box-sizing: border-box;top: 0;bottom: 0;left: 50%;z-index: -1;}#sk-container-id-2 div.sk-parallel-item {display: flex;flex-direction: column;z-index: 1;position: relative;background-color: white;}#sk-container-id-2 div.sk-parallel-item:first-child::after {align-self: flex-end;width: 50%;}#sk-container-id-2 div.sk-parallel-item:last-child::after {align-self: flex-start;width: 50%;}#sk-container-id-2 div.sk-parallel-item:only-child::after {width: 0;}#sk-container-id-2 div.sk-dashed-wrapped {border: 1px dashed gray;margin: 0 0.4em 0.5em 0.4em;box-sizing: border-box;padding-bottom: 0.4em;background-color: white;}#sk-container-id-2 div.sk-label label {font-family: monospace;font-weight: bold;display: inline-block;line-height: 1.2em;}#sk-container-id-2 div.sk-label-container {text-align: center;}#sk-container-id-2 div.sk-container {/* jupyter's `normalize.less` sets `[hidden] { display: none; }` but bootstrap.min.css set `[hidden] { display: none !important; }` so we also need the `!important` here to be able to override the default hidden behavior on the sphinx rendered scikit-learn.org. See: https://github.com/scikit-learn/scikit-learn/issues/21755 */display: inline-block !important;position: relative;}#sk-container-id-2 div.sk-text-repr-fallback {display: none;}</style><div id=\"sk-container-id-2\" class=\"sk-top-container\"><div class=\"sk-text-repr-fallback\"><pre>SVC(kernel=&#x27;linear&#x27;)</pre><b>In a Jupyter environment, please rerun this cell to show the HTML representation or trust the notebook. <br />On GitHub, the HTML representation is unable to render, please try loading this page with nbviewer.org.</b></div><div class=\"sk-container\" hidden><div class=\"sk-item\"><div class=\"sk-estimator sk-toggleable\"><input class=\"sk-toggleable__control sk-hidden--visually\" id=\"sk-estimator-id-2\" type=\"checkbox\" checked><label for=\"sk-estimator-id-2\" class=\"sk-toggleable__label sk-toggleable__label-arrow\">SVC</label><div class=\"sk-toggleable__content\"><pre>SVC(kernel=&#x27;linear&#x27;)</pre></div></div></div></div></div>"
            ],
            "text/plain": [
              "SVC(kernel='linear')"
            ]
          },
          "execution_count": 22,
          "metadata": {},
          "output_type": "execute_result"
        }
      ],
      "source": [
        "## 3. Kernel\n",
        "\n",
        "model_linear_kernal = SVC(kernel='linear')\n",
        "model_linear_kernal.fit(X_train, y_train)"
      ]
    },
    {
      "cell_type": "code",
      "execution_count": 23,
      "metadata": {
        "colab": {
          "base_uri": "https://localhost:8080/"
        },
        "id": "l7xxT1SdL5wu",
        "outputId": "5647f673-2b80-422c-ab35-f7f7dd05589e"
      },
      "outputs": [
        {
          "data": {
            "text/plain": [
              "0.9333333333333333"
            ]
          },
          "execution_count": 23,
          "metadata": {},
          "output_type": "execute_result"
        }
      ],
      "source": [
        "model_linear_kernal.score(X_test, y_test)"
      ]
    },
    {
      "cell_type": "code",
      "execution_count": 24,
      "metadata": {
        "id": "9SUWSimaZx2z"
      },
      "outputs": [],
      "source": [
        "y_pred = model_linear_kernal.predict(X_test)"
      ]
    },
    {
      "cell_type": "code",
      "execution_count": 25,
      "metadata": {
        "colab": {
          "base_uri": "https://localhost:8080/"
        },
        "id": "WXIdRFk9gU2i",
        "outputId": "37cc3e4d-d935-4ae7-fee1-531c66c6b9a6"
      },
      "outputs": [
        {
          "name": "stdout",
          "output_type": "stream",
          "text": [
            "Confusion Matrix: \n",
            "[[12  0  0]\n",
            " [ 0  9  1]\n",
            " [ 0  1  7]]\n"
          ]
        }
      ],
      "source": [
        "## Model Performance - Confusion Matrix\n",
        "\n",
        "from sklearn.metrics import confusion_matrix\n",
        "\n",
        "print(\"Confusion Matrix: \")\n",
        "print(confusion_matrix(y_test, y_pred))"
      ]
    },
    {
      "cell_type": "code",
      "execution_count": 26,
      "metadata": {
        "colab": {
          "base_uri": "https://localhost:8080/"
        },
        "id": "1LghEZRvd-dU",
        "outputId": "f2d308b8-9189-4d46-c573-eb98427d0696"
      },
      "outputs": [
        {
          "name": "stdout",
          "output_type": "stream",
          "text": [
            "acuracy: 0.9333333333333333\n",
            "precision: 0.9249999999999999\n",
            "recall 0.9249999999999999\n",
            "              precision    recall  f1-score   support\n",
            "\n",
            "           0       1.00      1.00      1.00        12\n",
            "           1       0.90      0.90      0.90        10\n",
            "           2       0.88      0.88      0.88         8\n",
            "\n",
            "    accuracy                           0.93        30\n",
            "   macro avg       0.92      0.92      0.92        30\n",
            "weighted avg       0.93      0.93      0.93        30\n",
            "\n"
          ]
        }
      ],
      "source": [
        "## Model Performance - Classification Report\n",
        "\n",
        "from sklearn import metrics\n",
        "#  accuracy\n",
        "print(\"acuracy:\", metrics.accuracy_score(y_test,y_pred))\n",
        "#  precision score\n",
        "print(\"precision:\", metrics.precision_score(y_test,y_pred, average='macro'))\n",
        "#  recall score\n",
        "print(\"recall\" , metrics.recall_score(y_test,y_pred, average='macro'))\n",
        "print(metrics.classification_report(y_test, y_pred))"
      ]
    },
    {
      "cell_type": "code",
      "execution_count": 27,
      "metadata": {
        "colab": {
          "base_uri": "https://localhost:8080/",
          "height": 295
        },
        "id": "S9OMCSCxZ8p4",
        "outputId": "65fbb3f4-5a13-448a-c61a-35d5a86e66f3"
      },
      "outputs": [
        {
          "data": {
            "image/png": "[encoded data removed]",
            "text/plain": [
              "<Figure size 432x288 with 1 Axes>"
            ]
          },
          "metadata": {
            "needs_background": "light"
          },
          "output_type": "display_data"
        }
      ],
      "source": [
        "## Visulaizing the Results  \n",
        "\n",
        "from matplotlib.colors import ListedColormap \n",
        "\n",
        "X = iris.data[:, :2]\n",
        "y = iris.target\n",
        "\n",
        "C = 1.0 # SVM regularization parameter\n",
        "svc = SVC(kernel='linear', C=1).fit(X, y)\n",
        "\n",
        "# create a mesh to plot in\n",
        "x_min, x_max = X[:, 0].min() - 1, X[:, 0].max() + 1\n",
        "y_min, y_max = X[:, 1].min() - 1, X[:, 1].max() + 1\n",
        "h = (x_max / x_min)/100\n",
        "xx, yy = np.meshgrid(np.arange(x_min, x_max, h), np.arange(y_min, y_max, h))\n",
        "\n",
        "plt.subplot(1, 1, 1)\n",
        "Z = svc.predict(np.c_[xx.ravel(), yy.ravel()])\n",
        "Z = Z.reshape(xx.shape)\n",
        "plt.contourf(xx, yy, Z, cmap=plt.cm.Paired, alpha=0.8)\n",
        "\n",
        "plt.scatter(X[:, 0], X[:, 1], c=y, cmap=plt.cm.Paired)\n",
        "plt.xlabel('Sepal length')\n",
        "plt.ylabel('Sepal width')\n",
        "plt.xlim(xx.min(), xx.max())\n",
        "plt.title('SVC with linear kernel')\n",
        "plt.show()"
      ]
    },
    {
      "cell_type": "code",
      "execution_count": 28,
      "metadata": {
        "colab": {
          "base_uri": "https://localhost:8080/",
          "height": 295
        },
        "id": "D03CDi8IculV",
        "outputId": "a7121713-1c08-427b-d4e7-fcce0784cb9d"
      },
      "outputs": [
        {
          "data": {
            "image/png": "[encoded data removed]",
            "text/plain": [
              "<Figure size 432x288 with 1 Axes>"
            ]
          },
          "metadata": {
            "needs_background": "light"
          },
          "output_type": "display_data"
        }
      ],
      "source": [
        "C = 1.0 # SVM regularization parameter\n",
        "svc = SVC(kernel='rbf', C=100, gamma=0.01).fit(X, y)\n",
        "\n",
        "# create a mesh to plot in\n",
        "x_min, x_max = X[:, 0].min() - 1, X[:, 0].max() + 1\n",
        "y_min, y_max = X[:, 1].min() - 1, X[:, 1].max() + 1\n",
        "h = (x_max / x_min)/100\n",
        "xx, yy = np.meshgrid(np.arange(x_min, x_max, h), np.arange(y_min, y_max, h))\n",
        "\n",
        "plt.subplot(1, 1, 1)\n",
        "Z = svc.predict(np.c_[xx.ravel(), yy.ravel()])\n",
        "Z = Z.reshape(xx.shape)\n",
        "plt.contourf(xx, yy, Z, cmap=plt.cm.Paired, alpha=0.8)\n",
        "\n",
        "plt.scatter(X[:, 0], X[:, 1], c=y, cmap=plt.cm.Paired)\n",
        "plt.xlabel('Sepal length')\n",
        "plt.ylabel('Sepal width')\n",
        "plt.xlim(xx.min(), xx.max())\n",
        "plt.title('SVC with rbf kernel')\n",
        "plt.show()"
      ]
    },
    {
      "cell_type": "code",
      "execution_count": 29,
      "metadata": {
        "colab": {
          "base_uri": "https://localhost:8080/",
          "height": 295
        },
        "id": "4sILuoUPc3O8",
        "outputId": "930cc686-a562-4274-8fd1-e53dfd2d0892"
      },
      "outputs": [
        {
          "data": {
            "image/png": "[encoded data removed]",
            "text/plain": [
              "<Figure size 432x288 with 1 Axes>"
            ]
          },
          "metadata": {
            "needs_background": "light"
          },
          "output_type": "display_data"
        }
      ],
      "source": [
        "C = 1.0 # SVM regularization parameter\n",
        "svc = SVC(kernel='rbf', C=10, gamma=10).fit(X, y)\n",
        "\n",
        "# create a mesh to plot in\n",
        "x_min, x_max = X[:, 0].min() - 1, X[:, 0].max() + 1\n",
        "y_min, y_max = X[:, 1].min() - 1, X[:, 1].max() + 1\n",
        "h = (x_max / x_min)/100\n",
        "xx, yy = np.meshgrid(np.arange(x_min, x_max, h), np.arange(y_min, y_max, h))\n",
        "\n",
        "plt.subplot(1, 1, 1)\n",
        "Z = svc.predict(np.c_[xx.ravel(), yy.ravel()])\n",
        "Z = Z.reshape(xx.shape)\n",
        "plt.contourf(xx, yy, Z, cmap=plt.cm.Paired, alpha=0.8)\n",
        "\n",
        "plt.scatter(X[:, 0], X[:, 1], c=y, cmap=plt.cm.Paired)\n",
        "plt.xlabel('Sepal length')\n",
        "plt.ylabel('Sepal width')\n",
        "plt.xlim(xx.min(), xx.max())\n",
        "plt.title('SVC with rbf kernel')\n",
        "plt.show()"
      ]
    },
    {
      "cell_type": "markdown",
      "metadata": {
        "id": "F2NfxHFSfT2g"
      },
      "source": [
        "**Prameter Finetuning through GridSearch**"
      ]
    },
    {
      "cell_type": "code",
      "execution_count": 30,
      "metadata": {
        "colab": {
          "base_uri": "https://localhost:8080/"
        },
        "id": "rypmIHNpfSno",
        "outputId": "62c9f94d-6e26-4ac5-d282-547033d6653b"
      },
      "outputs": [
        {
          "name": "stdout",
          "output_type": "stream",
          "text": [
            "Fitting 10 folds for each of 16 candidates, totalling 160 fits\n",
            "[CV 1/10; 1/16] START C=1, gamma=0.1............................................\n",
            "[CV 1/10; 1/16] END .............C=1, gamma=0.1;, score=1.000 total time=   0.0s\n",
            "[CV 2/10; 1/16] START C=1, gamma=0.1............................................\n",
            "[CV 2/10; 1/16] END .............C=1, gamma=0.1;, score=0.917 total time=   0.0s\n",
            "[CV 3/10; 1/16] START C=1, gamma=0.1............................................\n",
            "[CV 3/10; 1/16] END .............C=1, gamma=0.1;, score=1.000 total time=   0.0s\n",
            "[CV 4/10; 1/16] START C=1, gamma=0.1............................................\n",
            "[CV 4/10; 1/16] END .............C=1, gamma=0.1;, score=0.917 total time=   0.0s\n",
            "[CV 5/10; 1/16] START C=1, gamma=0.1............................................\n",
            "[CV 5/10; 1/16] END .............C=1, gamma=0.1;, score=1.000 total time=   0.0s\n",
            "[CV 6/10; 1/16] START C=1, gamma=0.1............................................\n",
            "[CV 6/10; 1/16] END .............C=1, gamma=0.1;, score=1.000 total time=   0.0s\n",
            "[CV 7/10; 1/16] START C=1, gamma=0.1............................................\n",
            "[CV 7/10; 1/16] END .............C=1, gamma=0.1;, score=1.000 total time=   0.0s\n",
            "[CV 8/10; 1/16] START C=1, gamma=0.1............................................\n",
            "[CV 8/10; 1/16] END .............C=1, gamma=0.1;, score=1.000 total time=   0.0s\n",
            "[CV 9/10; 1/16] START C=1, gamma=0.1............................................\n",
            "[CV 9/10; 1/16] END .............C=1, gamma=0.1;, score=1.000 total time=   0.0s\n",
            "[CV 10/10; 1/16] START C=1, gamma=0.1...........................................\n",
            "[CV 10/10; 1/16] END ............C=1, gamma=0.1;, score=1.000 total time=   0.0s\n",
            "[CV 1/10; 2/16] START C=1, gamma=0.01...........................................\n",
            "[CV 1/10; 2/16] END ............C=1, gamma=0.01;, score=0.917 total time=   0.0s\n",
            "[CV 2/10; 2/16] START C=1, gamma=0.01...........................................\n",
            "[CV 2/10; 2/16] END ............C=1, gamma=0.01;, score=0.917 total time=   0.0s\n",
            "[CV 3/10; 2/16] START C=1, gamma=0.01...........................................\n",
            "[CV 3/10; 2/16] END ............C=1, gamma=0.01;, score=0.917 total time=   0.0s\n",
            "[CV 4/10; 2/16] START C=1, gamma=0.01...........................................\n",
            "[CV 4/10; 2/16] END ............C=1, gamma=0.01;, score=1.000 total time=   0.0s\n",
            "[CV 5/10; 2/16] START C=1, gamma=0.01...........................................\n",
            "[CV 5/10; 2/16] END ............C=1, gamma=0.01;, score=0.917 total time=   0.0s\n",
            "[CV 6/10; 2/16] START C=1, gamma=0.01...........................................\n",
            "[CV 6/10; 2/16] END ............C=1, gamma=0.01;, score=1.000 total time=   0.0s\n",
            "[CV 7/10; 2/16] START C=1, gamma=0.01...........................................\n",
            "[CV 7/10; 2/16] END ............C=1, gamma=0.01;, score=0.917 total time=   0.0s\n",
            "[CV 8/10; 2/16] START C=1, gamma=0.01...........................................\n",
            "[CV 8/10; 2/16] END ............C=1, gamma=0.01;, score=0.917 total time=   0.0s\n",
            "[CV 9/10; 2/16] START C=1, gamma=0.01...........................................\n",
            "[CV 9/10; 2/16] END ............C=1, gamma=0.01;, score=1.000 total time=   0.0s\n",
            "[CV 10/10; 2/16] START C=1, gamma=0.01..........................................\n",
            "[CV 10/10; 2/16] END ...........C=1, gamma=0.01;, score=1.000 total time=   0.0s\n",
            "[CV 1/10; 3/16] START C=1, gamma=0.001..........................................\n",
            "[CV 1/10; 3/16] END ...........C=1, gamma=0.001;, score=0.667 total time=   0.0s\n",
            "[CV 2/10; 3/16] START C=1, gamma=0.001..........................................\n",
            "[CV 2/10; 3/16] END ...........C=1, gamma=0.001;, score=0.667 total time=   0.0s\n",
            "[CV 3/10; 3/16] START C=1, gamma=0.001..........................................\n",
            "[CV 3/10; 3/16] END ...........C=1, gamma=0.001;, score=0.667 total time=   0.0s\n",
            "[CV 4/10; 3/16] START C=1, gamma=0.001..........................................\n",
            "[CV 4/10; 3/16] END ...........C=1, gamma=0.001;, score=0.667 total time=   0.0s\n",
            "[CV 5/10; 3/16] START C=1, gamma=0.001..........................................\n",
            "[CV 5/10; 3/16] END ...........C=1, gamma=0.001;, score=0.667 total time=   0.0s\n",
            "[CV 6/10; 3/16] START C=1, gamma=0.001..........................................\n",
            "[CV 6/10; 3/16] END ...........C=1, gamma=0.001;, score=0.667 total time=   0.0s\n",
            "[CV 7/10; 3/16] START C=1, gamma=0.001..........................................\n",
            "[CV 7/10; 3/16] END ...........C=1, gamma=0.001;, score=0.667 total time=   0.0s\n",
            "[CV 8/10; 3/16] START C=1, gamma=0.001..........................................\n",
            "[CV 8/10; 3/16] END ...........C=1, gamma=0.001;, score=0.667 total time=   0.0s\n",
            "[CV 9/10; 3/16] START C=1, gamma=0.001..........................................\n",
            "[CV 9/10; 3/16] END ...........C=1, gamma=0.001;, score=0.667 total time=   0.0s\n",
            "[CV 10/10; 3/16] START C=1, gamma=0.001.........................................\n",
            "[CV 10/10; 3/16] END ..........C=1, gamma=0.001;, score=0.667 total time=   0.0s\n",
            "[CV 1/10; 4/16] START C=1, gamma=0.0001.........................................\n",
            "[CV 1/10; 4/16] END ..........C=1, gamma=0.0001;, score=0.417 total time=   0.0s\n",
            "[CV 2/10; 4/16] START C=1, gamma=0.0001.........................................\n",
            "[CV 2/10; 4/16] END ..........C=1, gamma=0.0001;, score=0.417 total time=   0.0s\n",
            "[CV 3/10; 4/16] START C=1, gamma=0.0001.........................................\n",
            "[CV 3/10; 4/16] END ..........C=1, gamma=0.0001;, score=0.333 total time=   0.0s\n",
            "[CV 4/10; 4/16] START C=1, gamma=0.0001.........................................\n",
            "[CV 4/10; 4/16] END ..........C=1, gamma=0.0001;, score=0.333 total time=   0.0s\n",
            "[CV 5/10; 4/16] START C=1, gamma=0.0001.........................................\n",
            "[CV 5/10; 4/16] END ..........C=1, gamma=0.0001;, score=0.333 total time=   0.0s\n",
            "[CV 6/10; 4/16] START C=1, gamma=0.0001.........................................\n",
            "[CV 6/10; 4/16] END ..........C=1, gamma=0.0001;, score=0.333 total time=   0.0s\n",
            "[CV 7/10; 4/16] START C=1, gamma=0.0001.........................................\n",
            "[CV 7/10; 4/16] END ..........C=1, gamma=0.0001;, score=0.333 total time=   0.0s\n",
            "[CV 8/10; 4/16] START C=1, gamma=0.0001.........................................\n",
            "[CV 8/10; 4/16] END ..........C=1, gamma=0.0001;, score=0.333 total time=   0.0s\n",
            "[CV 9/10; 4/16] START C=1, gamma=0.0001.........................................\n",
            "[CV 9/10; 4/16] END ..........C=1, gamma=0.0001;, score=0.333 total time=   0.0s\n",
            "[CV 10/10; 4/16] START C=1, gamma=0.0001........................................\n",
            "[CV 10/10; 4/16] END .........C=1, gamma=0.0001;, score=0.333 total time=   0.0s\n",
            "[CV 1/10; 5/16] START C=10, gamma=0.1...........................................\n",
            "[CV 1/10; 5/16] END ............C=10, gamma=0.1;, score=1.000 total time=   0.0s\n",
            "[CV 2/10; 5/16] START C=10, gamma=0.1...........................................\n",
            "[CV 2/10; 5/16] END ............C=10, gamma=0.1;, score=0.917 total time=   0.0s\n",
            "[CV 3/10; 5/16] START C=10, gamma=0.1...........................................\n",
            "[CV 3/10; 5/16] END ............C=10, gamma=0.1;, score=1.000 total time=   0.0s\n",
            "[CV 4/10; 5/16] START C=10, gamma=0.1...........................................\n",
            "[CV 4/10; 5/16] END ............C=10, gamma=0.1;, score=0.917 total time=   0.0s\n",
            "[CV 5/10; 5/16] START C=10, gamma=0.1...........................................\n",
            "[CV 5/10; 5/16] END ............C=10, gamma=0.1;, score=0.917 total time=   0.0s\n",
            "[CV 6/10; 5/16] START C=10, gamma=0.1...........................................\n",
            "[CV 6/10; 5/16] END ............C=10, gamma=0.1;, score=1.000 total time=   0.0s\n",
            "[CV 7/10; 5/16] START C=10, gamma=0.1...........................................\n",
            "[CV 7/10; 5/16] END ............C=10, gamma=0.1;, score=1.000 total time=   0.0s\n",
            "[CV 8/10; 5/16] START C=10, gamma=0.1...........................................\n",
            "[CV 8/10; 5/16] END ............C=10, gamma=0.1;, score=1.000 total time=   0.0s\n",
            "[CV 9/10; 5/16] START C=10, gamma=0.1...........................................\n",
            "[CV 9/10; 5/16] END ............C=10, gamma=0.1;, score=1.000 total time=   0.0s\n",
            "[CV 10/10; 5/16] START C=10, gamma=0.1..........................................\n",
            "[CV 10/10; 5/16] END ...........C=10, gamma=0.1;, score=1.000 total time=   0.0s\n",
            "[CV 1/10; 6/16] START C=10, gamma=0.01..........................................\n",
            "[CV 1/10; 6/16] END ...........C=10, gamma=0.01;, score=1.000 total time=   0.0s\n",
            "[CV 2/10; 6/16] START C=10, gamma=0.01..........................................\n",
            "[CV 2/10; 6/16] END ...........C=10, gamma=0.01;, score=0.917 total time=   0.0s\n",
            "[CV 3/10; 6/16] START C=10, gamma=0.01..........................................\n",
            "[CV 3/10; 6/16] END ...........C=10, gamma=0.01;, score=1.000 total time=   0.0s\n",
            "[CV 4/10; 6/16] START C=10, gamma=0.01..........................................\n",
            "[CV 4/10; 6/16] END ...........C=10, gamma=0.01;, score=0.917 total time=   0.0s\n",
            "[CV 5/10; 6/16] START C=10, gamma=0.01..........................................\n",
            "[CV 5/10; 6/16] END ...........C=10, gamma=0.01;, score=1.000 total time=   0.0s\n",
            "[CV 6/10; 6/16] START C=10, gamma=0.01..........................................\n",
            "[CV 6/10; 6/16] END ...........C=10, gamma=0.01;, score=1.000 total time=   0.0s\n",
            "[CV 7/10; 6/16] START C=10, gamma=0.01..........................................\n",
            "[CV 7/10; 6/16] END ...........C=10, gamma=0.01;, score=1.000 total time=   0.0s\n",
            "[CV 8/10; 6/16] START C=10, gamma=0.01..........................................\n",
            "[CV 8/10; 6/16] END ...........C=10, gamma=0.01;, score=1.000 total time=   0.0s\n",
            "[CV 9/10; 6/16] START C=10, gamma=0.01..........................................\n",
            "[CV 9/10; 6/16] END ...........C=10, gamma=0.01;, score=1.000 total time=   0.0s\n",
            "[CV 10/10; 6/16] START C=10, gamma=0.01.........................................\n",
            "[CV 10/10; 6/16] END ..........C=10, gamma=0.01;, score=1.000 total time=   0.0s\n",
            "[CV 1/10; 7/16] START C=10, gamma=0.001.........................................\n",
            "[CV 1/10; 7/16] END ..........C=10, gamma=0.001;, score=0.917 total time=   0.0s\n",
            "[CV 2/10; 7/16] START C=10, gamma=0.001.........................................\n",
            "[CV 2/10; 7/16] END ..........C=10, gamma=0.001;, score=0.917 total time=   0.0s\n",
            "[CV 3/10; 7/16] START C=10, gamma=0.001.........................................\n",
            "[CV 3/10; 7/16] END ..........C=10, gamma=0.001;, score=0.917 total time=   0.0s\n",
            "[CV 4/10; 7/16] START C=10, gamma=0.001.........................................\n",
            "[CV 4/10; 7/16] END ..........C=10, gamma=0.001;, score=1.000 total time=   0.0s\n",
            "[CV 5/10; 7/16] START C=10, gamma=0.001.........................................\n",
            "[CV 5/10; 7/16] END ..........C=10, gamma=0.001;, score=0.917 total time=   0.0s\n",
            "[CV 6/10; 7/16] START C=10, gamma=0.001.........................................\n",
            "[CV 6/10; 7/16] END ..........C=10, gamma=0.001;, score=1.000 total time=   0.0s\n",
            "[CV 7/10; 7/16] START C=10, gamma=0.001.........................................\n",
            "[CV 7/10; 7/16] END ..........C=10, gamma=0.001;, score=0.917 total time=   0.0s\n",
            "[CV 8/10; 7/16] START C=10, gamma=0.001.........................................\n",
            "[CV 8/10; 7/16] END ..........C=10, gamma=0.001;, score=0.917 total time=   0.0s\n",
            "[CV 9/10; 7/16] START C=10, gamma=0.001.........................................\n",
            "[CV 9/10; 7/16] END ..........C=10, gamma=0.001;, score=1.000 total time=   0.0s\n",
            "[CV 10/10; 7/16] START C=10, gamma=0.001........................................\n",
            "[CV 10/10; 7/16] END .........C=10, gamma=0.001;, score=1.000 total time=   0.0s\n",
            "[CV 1/10; 8/16] START C=10, gamma=0.0001........................................\n",
            "[CV 1/10; 8/16] END .........C=10, gamma=0.0001;, score=0.667 total time=   0.0s\n",
            "[CV 2/10; 8/16] START C=10, gamma=0.0001........................................\n",
            "[CV 2/10; 8/16] END .........C=10, gamma=0.0001;, score=0.667 total time=   0.0s\n",
            "[CV 3/10; 8/16] START C=10, gamma=0.0001........................................\n",
            "[CV 3/10; 8/16] END .........C=10, gamma=0.0001;, score=0.667 total time=   0.0s\n",
            "[CV 4/10; 8/16] START C=10, gamma=0.0001........................................\n",
            "[CV 4/10; 8/16] END .........C=10, gamma=0.0001;, score=0.667 total time=   0.0s\n",
            "[CV 5/10; 8/16] START C=10, gamma=0.0001........................................\n",
            "[CV 5/10; 8/16] END .........C=10, gamma=0.0001;, score=0.667 total time=   0.0s\n",
            "[CV 6/10; 8/16] START C=10, gamma=0.0001........................................\n",
            "[CV 6/10; 8/16] END .........C=10, gamma=0.0001;, score=0.667 total time=   0.0s\n",
            "[CV 7/10; 8/16] START C=10, gamma=0.0001........................................\n",
            "[CV 7/10; 8/16] END .........C=10, gamma=0.0001;, score=0.667 total time=   0.0s\n",
            "[CV 8/10; 8/16] START C=10, gamma=0.0001........................................\n",
            "[CV 8/10; 8/16] END .........C=10, gamma=0.0001;, score=0.667 total time=   0.0s\n",
            "[CV 9/10; 8/16] START C=10, gamma=0.0001........................................\n",
            "[CV 9/10; 8/16] END .........C=10, gamma=0.0001;, score=0.667 total time=   0.0s\n",
            "[CV 10/10; 8/16] START C=10, gamma=0.0001.......................................\n",
            "[CV 10/10; 8/16] END ........C=10, gamma=0.0001;, score=0.667 total time=   0.0s\n",
            "[CV 1/10; 9/16] START C=100, gamma=0.1..........................................\n",
            "[CV 1/10; 9/16] END ...........C=100, gamma=0.1;, score=0.917 total time=   0.0s\n",
            "[CV 2/10; 9/16] START C=100, gamma=0.1..........................................\n",
            "[CV 2/10; 9/16] END ...........C=100, gamma=0.1;, score=0.917 total time=   0.0s\n",
            "[CV 3/10; 9/16] START C=100, gamma=0.1..........................................\n",
            "[CV 3/10; 9/16] END ...........C=100, gamma=0.1;, score=1.000 total time=   0.0s\n",
            "[CV 4/10; 9/16] START C=100, gamma=0.1..........................................\n",
            "[CV 4/10; 9/16] END ...........C=100, gamma=0.1;, score=0.917 total time=   0.0s\n",
            "[CV 5/10; 9/16] START C=100, gamma=0.1..........................................\n",
            "[CV 5/10; 9/16] END ...........C=100, gamma=0.1;, score=0.917 total time=   0.0s\n",
            "[CV 6/10; 9/16] START C=100, gamma=0.1..........................................\n",
            "[CV 6/10; 9/16] END ...........C=100, gamma=0.1;, score=1.000 total time=   0.0s\n",
            "[CV 7/10; 9/16] START C=100, gamma=0.1..........................................\n",
            "[CV 7/10; 9/16] END ...........C=100, gamma=0.1;, score=0.917 total time=   0.0s\n",
            "[CV 8/10; 9/16] START C=100, gamma=0.1..........................................\n",
            "[CV 8/10; 9/16] END ...........C=100, gamma=0.1;, score=1.000 total time=   0.0s\n",
            "[CV 9/10; 9/16] START C=100, gamma=0.1..........................................\n",
            "[CV 9/10; 9/16] END ...........C=100, gamma=0.1;, score=1.000 total time=   0.0s\n",
            "[CV 10/10; 9/16] START C=100, gamma=0.1.........................................\n",
            "[CV 10/10; 9/16] END ..........C=100, gamma=0.1;, score=1.000 total time=   0.0s\n",
            "[CV 1/10; 10/16] START C=100, gamma=0.01........................................\n",
            "[CV 1/10; 10/16] END .........C=100, gamma=0.01;, score=1.000 total time=   0.0s\n",
            "[CV 2/10; 10/16] START C=100, gamma=0.01........................................\n",
            "[CV 2/10; 10/16] END .........C=100, gamma=0.01;, score=0.917 total time=   0.0s\n",
            "[CV 3/10; 10/16] START C=100, gamma=0.01........................................\n",
            "[CV 3/10; 10/16] END .........C=100, gamma=0.01;, score=1.000 total time=   0.0s\n",
            "[CV 4/10; 10/16] START C=100, gamma=0.01........................................\n",
            "[CV 4/10; 10/16] END .........C=100, gamma=0.01;, score=0.917 total time=   0.0s\n",
            "[CV 5/10; 10/16] START C=100, gamma=0.01........................................\n",
            "[CV 5/10; 10/16] END .........C=100, gamma=0.01;, score=0.917 total time=   0.0s\n",
            "[CV 6/10; 10/16] START C=100, gamma=0.01........................................\n",
            "[CV 6/10; 10/16] END .........C=100, gamma=0.01;, score=1.000 total time=   0.0s\n",
            "[CV 7/10; 10/16] START C=100, gamma=0.01........................................\n",
            "[CV 7/10; 10/16] END .........C=100, gamma=0.01;, score=1.000 total time=   0.0s\n",
            "[CV 8/10; 10/16] START C=100, gamma=0.01........................................\n",
            "[CV 8/10; 10/16] END .........C=100, gamma=0.01;, score=1.000 total time=   0.0s\n",
            "[CV 9/10; 10/16] START C=100, gamma=0.01........................................\n",
            "[CV 9/10; 10/16] END .........C=100, gamma=0.01;, score=1.000 total time=   0.0s\n",
            "[CV 10/10; 10/16] START C=100, gamma=0.01.......................................\n",
            "[CV 10/10; 10/16] END ........C=100, gamma=0.01;, score=1.000 total time=   0.0s\n",
            "[CV 1/10; 11/16] START C=100, gamma=0.001.......................................\n",
            "[CV 1/10; 11/16] END ........C=100, gamma=0.001;, score=1.000 total time=   0.0s\n",
            "[CV 2/10; 11/16] START C=100, gamma=0.001.......................................\n",
            "[CV 2/10; 11/16] END ........C=100, gamma=0.001;, score=0.917 total time=   0.0s\n",
            "[CV 3/10; 11/16] START C=100, gamma=0.001.......................................\n",
            "[CV 3/10; 11/16] END ........C=100, gamma=0.001;, score=1.000 total time=   0.0s\n",
            "[CV 4/10; 11/16] START C=100, gamma=0.001.......................................\n",
            "[CV 4/10; 11/16] END ........C=100, gamma=0.001;, score=0.917 total time=   0.0s\n",
            "[CV 5/10; 11/16] START C=100, gamma=0.001.......................................\n",
            "[CV 5/10; 11/16] END ........C=100, gamma=0.001;, score=1.000 total time=   0.0s\n",
            "[CV 6/10; 11/16] START C=100, gamma=0.001.......................................\n",
            "[CV 6/10; 11/16] END ........C=100, gamma=0.001;, score=1.000 total time=   0.0s\n",
            "[CV 7/10; 11/16] START C=100, gamma=0.001.......................................\n",
            "[CV 7/10; 11/16] END ........C=100, gamma=0.001;, score=1.000 total time=   0.0s\n",
            "[CV 8/10; 11/16] START C=100, gamma=0.001.......................................\n",
            "[CV 8/10; 11/16] END ........C=100, gamma=0.001;, score=1.000 total time=   0.0s\n",
            "[CV 9/10; 11/16] START C=100, gamma=0.001.......................................\n",
            "[CV 9/10; 11/16] END ........C=100, gamma=0.001;, score=1.000 total time=   0.0s\n",
            "[CV 10/10; 11/16] START C=100, gamma=0.001......................................\n",
            "[CV 10/10; 11/16] END .......C=100, gamma=0.001;, score=1.000 total time=   0.0s\n",
            "[CV 1/10; 12/16] START C=100, gamma=0.0001......................................\n",
            "[CV 1/10; 12/16] END .......C=100, gamma=0.0001;, score=0.917 total time=   0.0s\n",
            "[CV 2/10; 12/16] START C=100, gamma=0.0001......................................\n",
            "[CV 2/10; 12/16] END .......C=100, gamma=0.0001;, score=0.917 total time=   0.0s\n",
            "[CV 3/10; 12/16] START C=100, gamma=0.0001......................................\n",
            "[CV 3/10; 12/16] END .......C=100, gamma=0.0001;, score=0.917 total time=   0.0s\n",
            "[CV 4/10; 12/16] START C=100, gamma=0.0001......................................\n",
            "[CV 4/10; 12/16] END .......C=100, gamma=0.0001;, score=1.000 total time=   0.0s\n",
            "[CV 5/10; 12/16] START C=100, gamma=0.0001......................................\n",
            "[CV 5/10; 12/16] END .......C=100, gamma=0.0001;, score=0.917 total time=   0.0s\n",
            "[CV 6/10; 12/16] START C=100, gamma=0.0001......................................\n",
            "[CV 6/10; 12/16] END .......C=100, gamma=0.0001;, score=1.000 total time=   0.0s\n",
            "[CV 7/10; 12/16] START C=100, gamma=0.0001......................................\n",
            "[CV 7/10; 12/16] END .......C=100, gamma=0.0001;, score=0.917 total time=   0.0s\n",
            "[CV 8/10; 12/16] START C=100, gamma=0.0001......................................\n",
            "[CV 8/10; 12/16] END .......C=100, gamma=0.0001;, score=0.917 total time=   0.0s\n",
            "[CV 9/10; 12/16] START C=100, gamma=0.0001......................................\n",
            "[CV 9/10; 12/16] END .......C=100, gamma=0.0001;, score=1.000 total time=   0.0s\n",
            "[CV 10/10; 12/16] START C=100, gamma=0.0001.....................................\n",
            "[CV 10/10; 12/16] END ......C=100, gamma=0.0001;, score=1.000 total time=   0.0s\n",
            "[CV 1/10; 13/16] START C=1000, gamma=0.1........................................\n",
            "[CV 1/10; 13/16] END .........C=1000, gamma=0.1;, score=0.917 total time=   0.0s\n",
            "[CV 2/10; 13/16] START C=1000, gamma=0.1........................................\n",
            "[CV 2/10; 13/16] END .........C=1000, gamma=0.1;, score=0.833 total time=   0.0s\n",
            "[CV 3/10; 13/16] START C=1000, gamma=0.1........................................\n",
            "[CV 3/10; 13/16] END .........C=1000, gamma=0.1;, score=1.000 total time=   0.0s\n",
            "[CV 4/10; 13/16] START C=1000, gamma=0.1........................................\n",
            "[CV 4/10; 13/16] END .........C=1000, gamma=0.1;, score=0.917 total time=   0.0s\n",
            "[CV 5/10; 13/16] START C=1000, gamma=0.1........................................\n",
            "[CV 5/10; 13/16] END .........C=1000, gamma=0.1;, score=0.917 total time=   0.0s\n",
            "[CV 6/10; 13/16] START C=1000, gamma=0.1........................................\n",
            "[CV 6/10; 13/16] END .........C=1000, gamma=0.1;, score=1.000 total time=   0.0s\n",
            "[CV 7/10; 13/16] START C=1000, gamma=0.1........................................\n",
            "[CV 7/10; 13/16] END .........C=1000, gamma=0.1;, score=0.917 total time=   0.0s\n",
            "[CV 8/10; 13/16] START C=1000, gamma=0.1........................................\n",
            "[CV 8/10; 13/16] END .........C=1000, gamma=0.1;, score=0.917 total time=   0.0s\n",
            "[CV 9/10; 13/16] START C=1000, gamma=0.1........................................\n",
            "[CV 9/10; 13/16] END .........C=1000, gamma=0.1;, score=1.000 total time=   0.0s\n",
            "[CV 10/10; 13/16] START C=1000, gamma=0.1.......................................\n",
            "[CV 10/10; 13/16] END ........C=1000, gamma=0.1;, score=1.000 total time=   0.0s\n",
            "[CV 1/10; 14/16] START C=1000, gamma=0.01.......................................\n",
            "[CV 1/10; 14/16] END ........C=1000, gamma=0.01;, score=1.000 total time=   0.0s\n",
            "[CV 2/10; 14/16] START C=1000, gamma=0.01.......................................\n",
            "[CV 2/10; 14/16] END ........C=1000, gamma=0.01;, score=0.917 total time=   0.0s\n",
            "[CV 3/10; 14/16] START C=1000, gamma=0.01.......................................\n",
            "[CV 3/10; 14/16] END ........C=1000, gamma=0.01;, score=1.000 total time=   0.0s\n",
            "[CV 4/10; 14/16] START C=1000, gamma=0.01.......................................\n",
            "[CV 4/10; 14/16] END ........C=1000, gamma=0.01;, score=0.917 total time=   0.0s\n",
            "[CV 5/10; 14/16] START C=1000, gamma=0.01.......................................\n",
            "[CV 5/10; 14/16] END ........C=1000, gamma=0.01;, score=0.917 total time=   0.0s\n",
            "[CV 6/10; 14/16] START C=1000, gamma=0.01.......................................\n",
            "[CV 6/10; 14/16] END ........C=1000, gamma=0.01;, score=1.000 total time=   0.0s\n",
            "[CV 7/10; 14/16] START C=1000, gamma=0.01.......................................\n",
            "[CV 7/10; 14/16] END ........C=1000, gamma=0.01;, score=0.917 total time=   0.0s\n",
            "[CV 8/10; 14/16] START C=1000, gamma=0.01.......................................\n",
            "[CV 8/10; 14/16] END ........C=1000, gamma=0.01;, score=1.000 total time=   0.0s\n",
            "[CV 9/10; 14/16] START C=1000, gamma=0.01.......................................\n",
            "[CV 9/10; 14/16] END ........C=1000, gamma=0.01;, score=1.000 total time=   0.0s\n",
            "[CV 10/10; 14/16] START C=1000, gamma=0.01......................................\n",
            "[CV 10/10; 14/16] END .......C=1000, gamma=0.01;, score=1.000 total time=   0.0s\n",
            "[CV 1/10; 15/16] START C=1000, gamma=0.001......................................\n",
            "[CV 1/10; 15/16] END .......C=1000, gamma=0.001;, score=1.000 total time=   0.0s\n",
            "[CV 2/10; 15/16] START C=1000, gamma=0.001......................................\n",
            "[CV 2/10; 15/16] END .......C=1000, gamma=0.001;, score=0.917 total time=   0.0s\n",
            "[CV 3/10; 15/16] START C=1000, gamma=0.001......................................\n",
            "[CV 3/10; 15/16] END .......C=1000, gamma=0.001;, score=1.000 total time=   0.0s\n",
            "[CV 4/10; 15/16] START C=1000, gamma=0.001......................................\n",
            "[CV 4/10; 15/16] END .......C=1000, gamma=0.001;, score=0.917 total time=   0.0s\n",
            "[CV 5/10; 15/16] START C=1000, gamma=0.001......................................\n",
            "[CV 5/10; 15/16] END .......C=1000, gamma=0.001;, score=0.917 total time=   0.0s\n",
            "[CV 6/10; 15/16] START C=1000, gamma=0.001......................................\n",
            "[CV 6/10; 15/16] END .......C=1000, gamma=0.001;, score=1.000 total time=   0.0s\n",
            "[CV 7/10; 15/16] START C=1000, gamma=0.001......................................\n",
            "[CV 7/10; 15/16] END .......C=1000, gamma=0.001;, score=1.000 total time=   0.0s\n",
            "[CV 8/10; 15/16] START C=1000, gamma=0.001......................................\n",
            "[CV 8/10; 15/16] END .......C=1000, gamma=0.001;, score=1.000 total time=   0.0s\n",
            "[CV 9/10; 15/16] START C=1000, gamma=0.001......................................\n",
            "[CV 9/10; 15/16] END .......C=1000, gamma=0.001;, score=1.000 total time=   0.0s\n",
            "[CV 10/10; 15/16] START C=1000, gamma=0.001.....................................\n",
            "[CV 10/10; 15/16] END ......C=1000, gamma=0.001;, score=1.000 total time=   0.0s\n",
            "[CV 1/10; 16/16] START C=1000, gamma=0.0001.....................................\n",
            "[CV 1/10; 16/16] END ......C=1000, gamma=0.0001;, score=1.000 total time=   0.0s\n",
            "[CV 2/10; 16/16] START C=1000, gamma=0.0001.....................................\n",
            "[CV 2/10; 16/16] END ......C=1000, gamma=0.0001;, score=0.917 total time=   0.0s\n",
            "[CV 3/10; 16/16] START C=1000, gamma=0.0001.....................................\n",
            "[CV 3/10; 16/16] END ......C=1000, gamma=0.0001;, score=1.000 total time=   0.0s\n",
            "[CV 4/10; 16/16] START C=1000, gamma=0.0001.....................................\n",
            "[CV 4/10; 16/16] END ......C=1000, gamma=0.0001;, score=0.917 total time=   0.0s\n",
            "[CV 5/10; 16/16] START C=1000, gamma=0.0001.....................................\n",
            "[CV 5/10; 16/16] END ......C=1000, gamma=0.0001;, score=1.000 total time=   0.0s\n",
            "[CV 6/10; 16/16] START C=1000, gamma=0.0001.....................................\n",
            "[CV 6/10; 16/16] END ......C=1000, gamma=0.0001;, score=1.000 total time=   0.0s\n",
            "[CV 7/10; 16/16] START C=1000, gamma=0.0001.....................................\n",
            "[CV 7/10; 16/16] END ......C=1000, gamma=0.0001;, score=1.000 total time=   0.0s\n",
            "[CV 8/10; 16/16] START C=1000, gamma=0.0001.....................................\n",
            "[CV 8/10; 16/16] END ......C=1000, gamma=0.0001;, score=1.000 total time=   0.0s\n",
            "[CV 9/10; 16/16] START C=1000, gamma=0.0001.....................................\n",
            "[CV 9/10; 16/16] END ......C=1000, gamma=0.0001;, score=1.000 total time=   0.0s\n",
            "[CV 10/10; 16/16] START C=1000, gamma=0.0001....................................\n",
            "[CV 10/10; 16/16] END .....C=1000, gamma=0.0001;, score=1.000 total time=   0.0s\n"
          ]
        },
        {
          "data": {
            "text/html": [
              "<style>#sk-container-id-3 {color: black;background-color: white;}#sk-container-id-3 pre{padding: 0;}#sk-container-id-3 div.sk-toggleable {background-color: white;}#sk-container-id-3 label.sk-toggleable__label {cursor: pointer;display: block;width: 100%;margin-bottom: 0;padding: 0.3em;box-sizing: border-box;text-align: center;}#sk-container-id-3 label.sk-toggleable__label-arrow:before {content: \"▸\";float: left;margin-right: 0.25em;color: #696969;}#sk-container-id-3 label.sk-toggleable__label-arrow:hover:before {color: black;}#sk-container-id-3 div.sk-estimator:hover label.sk-toggleable__label-arrow:before {color: black;}#sk-container-id-3 div.sk-toggleable__content {max-height: 0;max-width: 0;overflow: hidden;text-align: left;background-color: #f0f8ff;}#sk-container-id-3 div.sk-toggleable__content pre {margin: 0.2em;color: black;border-radius: 0.25em;background-color: #f0f8ff;}#sk-container-id-3 input.sk-toggleable__control:checked~div.sk-toggleable__content {max-height: 200px;max-width: 100%;overflow: auto;}#sk-container-id-3 input.sk-toggleable__control:checked~label.sk-toggleable__label-arrow:before {content: \"▾\";}#sk-container-id-3 div.sk-estimator input.sk-toggleable__control:checked~label.sk-toggleable__label {background-color: #d4ebff;}#sk-container-id-3 div.sk-label input.sk-toggleable__control:checked~label.sk-toggleable__label {background-color: #d4ebff;}#sk-container-id-3 input.sk-hidden--visually {border: 0;clip: rect(1px 1px 1px 1px);clip: rect(1px, 1px, 1px, 1px);height: 1px;margin: -1px;overflow: hidden;padding: 0;position: absolute;width: 1px;}#sk-container-id-3 div.sk-estimator {font-family: monospace;background-color: #f0f8ff;border: 1px dotted black;border-radius: 0.25em;box-sizing: border-box;margin-bottom: 0.5em;}#sk-container-id-3 div.sk-estimator:hover {background-color: #d4ebff;}#sk-container-id-3 div.sk-parallel-item::after {content: \"\";width: 100%;border-bottom: 1px solid gray;flex-grow: 1;}#sk-container-id-3 div.sk-label:hover label.sk-toggleable__label {background-color: #d4ebff;}#sk-container-id-3 div.sk-serial::before {content: \"\";position: absolute;border-left: 1px solid gray;box-sizing: border-box;top: 0;bottom: 0;left: 50%;z-index: 0;}#sk-container-id-3 div.sk-serial {display: flex;flex-direction: column;align-items: center;background-color: white;padding-right: 0.2em;padding-left: 0.2em;position: relative;}#sk-container-id-3 div.sk-item {position: relative;z-index: 1;}#sk-container-id-3 div.sk-parallel {display: flex;align-items: stretch;justify-content: center;background-color: white;position: relative;}#sk-container-id-3 div.sk-item::before, #sk-container-id-3 div.sk-parallel-item::before {content: \"\";position: absolute;border-left: 1px solid gray;box-sizing: border-box;top: 0;bottom: 0;left: 50%;z-index: -1;}#sk-container-id-3 div.sk-parallel-item {display: flex;flex-direction: column;z-index: 1;position: relative;background-color: white;}#sk-container-id-3 div.sk-parallel-item:first-child::after {align-self: flex-end;width: 50%;}#sk-container-id-3 div.sk-parallel-item:last-child::after {align-self: flex-start;width: 50%;}#sk-container-id-3 div.sk-parallel-item:only-child::after {width: 0;}#sk-container-id-3 div.sk-dashed-wrapped {border: 1px dashed gray;margin: 0 0.4em 0.5em 0.4em;box-sizing: border-box;padding-bottom: 0.4em;background-color: white;}#sk-container-id-3 div.sk-label label {font-family: monospace;font-weight: bold;display: inline-block;line-height: 1.2em;}#sk-container-id-3 div.sk-label-container {text-align: center;}#sk-container-id-3 div.sk-container {/* jupyter's `normalize.less` sets `[hidden] { display: none; }` but bootstrap.min.css set `[hidden] { display: none !important; }` so we also need the `!important` here to be able to override the default hidden behavior on the sphinx rendered scikit-learn.org. See: https://github.com/scikit-learn/scikit-learn/issues/21755 */display: inline-block !important;position: relative;}#sk-container-id-3 div.sk-text-repr-fallback {display: none;}</style><div id=\"sk-container-id-3\" class=\"sk-top-container\"><div class=\"sk-text-repr-fallback\"><pre>GridSearchCV(cv=10, estimator=SVC(C=10, gamma=10),\n",
              "             param_grid={&#x27;C&#x27;: (1, 10, 100, 1000),\n",
              "                         &#x27;gamma&#x27;: (0.1, 0.01, 0.001, 0.0001)},\n",
              "             verbose=10)</pre><b>In a Jupyter environment, please rerun this cell to show the HTML representation or trust the notebook. <br />On GitHub, the HTML representation is unable to render, please try loading this page with nbviewer.org.</b></div><div class=\"sk-container\" hidden><div class=\"sk-item sk-dashed-wrapped\"><div class=\"sk-label-container\"><div class=\"sk-label sk-toggleable\"><input class=\"sk-toggleable__control sk-hidden--visually\" id=\"sk-estimator-id-3\" type=\"checkbox\" ><label for=\"sk-estimator-id-3\" class=\"sk-toggleable__label sk-toggleable__label-arrow\">GridSearchCV</label><div class=\"sk-toggleable__content\"><pre>GridSearchCV(cv=10, estimator=SVC(C=10, gamma=10),\n",
              "             param_grid={&#x27;C&#x27;: (1, 10, 100, 1000),\n",
              "                         &#x27;gamma&#x27;: (0.1, 0.01, 0.001, 0.0001)},\n",
              "             verbose=10)</pre></div></div></div><div class=\"sk-parallel\"><div class=\"sk-parallel-item\"><div class=\"sk-item\"><div class=\"sk-label-container\"><div class=\"sk-label sk-toggleable\"><input class=\"sk-toggleable__control sk-hidden--visually\" id=\"sk-estimator-id-4\" type=\"checkbox\" ><label for=\"sk-estimator-id-4\" class=\"sk-toggleable__label sk-toggleable__label-arrow\">estimator: SVC</label><div class=\"sk-toggleable__content\"><pre>SVC(C=10, gamma=10)</pre></div></div></div><div class=\"sk-serial\"><div class=\"sk-item\"><div class=\"sk-estimator sk-toggleable\"><input class=\"sk-toggleable__control sk-hidden--visually\" id=\"sk-estimator-id-5\" type=\"checkbox\" ><label for=\"sk-estimator-id-5\" class=\"sk-toggleable__label sk-toggleable__label-arrow\">SVC</label><div class=\"sk-toggleable__content\"><pre>SVC(C=10, gamma=10)</pre></div></div></div></div></div></div></div></div></div></div>"
            ],
            "text/plain": [
              "GridSearchCV(cv=10, estimator=SVC(C=10, gamma=10),\n",
              "             param_grid={'C': (1, 10, 100, 1000),\n",
              "                         'gamma': (0.1, 0.01, 0.001, 0.0001)},\n",
              "             verbose=10)"
            ]
          },
          "execution_count": 30,
          "metadata": {},
          "output_type": "execute_result"
        }
      ],
      "source": [
        "from sklearn.model_selection import GridSearchCV\n",
        "\n",
        "param_grid = {'C':(1, 10, 100, 1000), 'gamma':(0.1, 0.01, 0.001, 0.0001)}\n",
        "\n",
        "grid_search = GridSearchCV(svc, param_grid, cv=10, verbose=10)\n",
        "\n",
        "grid_search.fit(X_train, y_train)"
      ]
    },
    {
      "cell_type": "code",
      "execution_count": 31,
      "metadata": {
        "colab": {
          "base_uri": "https://localhost:8080/"
        },
        "id": "oiyyLYStf84x",
        "outputId": "14054e6b-bf23-496b-8ae8-5fb4222bd620"
      },
      "outputs": [
        {
          "data": {
            "text/plain": [
              "{'C': 1, 'gamma': 0.1}"
            ]
          },
          "execution_count": 31,
          "metadata": {},
          "output_type": "execute_result"
        }
      ],
      "source": [
        "grid_search.best_params_"
      ]
    }
  ],
  "metadata": {
    "colab": {
      "provenance": []
    },
    "kernelspec": {
      "display_name": "base",
      "language": "python",
      "name": "python3"
    },
    "language_info": {
      "codemirror_mode": {
        "name": "ipython",
        "version": 3
      },
      "file_extension": ".py",
      "mimetype": "text/x-python",
      "name": "python",
      "nbconvert_exporter": "python",
      "pygments_lexer": "ipython3",
      "version": "3.8.8 (default, Apr 13 2021, 15:08:03) [MSC v.1916 64 bit (AMD64)]"
    },
    "vscode": {
      "interpreter": {
        "hash": "fb86c5e372bfe5d813b1cbc1070ec4aa4c75db0c83ff9e9751aacd15f8f7d009"
      }
    }
  },
  "nbformat": 4,
  "nbformat_minor": 0
}
