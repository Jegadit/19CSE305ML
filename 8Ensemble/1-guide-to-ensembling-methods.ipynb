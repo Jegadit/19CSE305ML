{
 "cells": [
  {
   "cell_type": "markdown",
   "metadata": {},
   "source": [
    "![Imgur](https://i.imgur.com/L2Jaqm8.png)"
   ]
  },
  {
   "cell_type": "markdown",
   "metadata": {},
   "source": [
    "What is in this tutorial?\n",
    "in this tutorial I am trying to illustrate how ensembling techniques work manually and by python code to make a good intuition about why is it  useful and why do we use it.\n"
   ]
  },
  {
   "cell_type": "markdown",
   "metadata": {},
   "source": [
    "**Introduction to ensembling**\n",
    "\n",
    "**Types of ensembling :**\n",
    "\n",
    "**Basic Ensemble Techniques**\n",
    "\n",
    "*     Max Voting\n",
    "*     Averaging\n",
    "*     Weighted Average\n",
    "\n",
    "**Advanced Ensemble Techniques**\n",
    "\n",
    "* Stacking\n",
    "* Blending\n",
    "* Bagging\n",
    "* Boosting\n",
    "\n",
    "**Algorithms based on Bagging and Boosting**\n",
    "\n",
    "> * Bagging meta-estimator\n",
    "* Random Forest\n",
    "* AdaBoost\n",
    "* GBM\n",
    "* XGB\n",
    "* Light GBM\n",
    "* CatBoost\n"
   ]
  },
  {
   "cell_type": "markdown",
   "metadata": {},
   "source": [
    "What is in this tutorial?\n",
    "in thi tutorial I am trying to illustrate how ensembling techniques work manually and by python code to make a good intuition about why it is useful and why we use it.\n",
    "\n"
   ]
  },
  {
   "cell_type": "markdown",
   "metadata": {},
   "source": [
    "At first there is a rational we must stabilize that : combination between models increase accuracy and in machine learning combination is **Ensembling** \n"
   ]
  },
  {
   "cell_type": "markdown",
   "metadata": {},
   "source": [
    "**Introduction to ensembling :**"
   ]
  },
  {
   "cell_type": "markdown",
   "metadata": {},
   "source": [
    "**Errors**"
   ]
  },
  {
   "cell_type": "markdown",
   "metadata": {},
   "source": [
    "The error emerging from any model can be broken down into three components mathematically. Following are these component :"
   ]
  },
  {
   "cell_type": "markdown",
   "metadata": {},
   "source": [
    "![Imgur](https://i.imgur.com/LmeI08b.png)"
   ]
  },
  {
   "cell_type": "markdown",
   "metadata": {},
   "source": [
    "**Why is this important in the current context?**\n",
    "To understand what really goes behind an ensemble model, we need to first understand what causes error in the model. We will briefly introduce you to these errors and give an insight to each ensemble learner in this regards."
   ]
  },
  {
   "cell_type": "markdown",
   "metadata": {
    "_cell_guid": "b1076dfc-b9ad-4769-8c92-a6c4dae69d19",
    "_uuid": "8f2839f25d086af736a60e9eeb907d3b93b6e0e5"
   },
   "source": [
    "**Bias error **\n",
    "\n",
    "is useful to quantify how much on an average are the predicted values different from the actual value. A high bias error means we have a under-performing model which keeps on missing important trends.\n",
    "\n",
    "**Variance**\n",
    "\n",
    "on the other side quantifies how are the prediction made on same observation different from each other. A high variance model will over-fit on your training population and perform badly on any observation beyond training. Following diagram will give you more clarity (Assume that red spot is the real value and blue dots are predictions) :\n"
   ]
  },
  {
   "cell_type": "markdown",
   "metadata": {},
   "source": [
    "![Imgur](https://i.imgur.com/jFfarvo.png)"
   ]
  },
  {
   "cell_type": "markdown",
   "metadata": {},
   "source": [
    "model should maintain a balance between these two types of errors. This is known as the trade-off management of bias-variance errors. **Ensemble learning is one way to execute this trade off analysis.**"
   ]
  },
  {
   "cell_type": "markdown",
   "metadata": {},
   "source": [
    "![Imgur](https://i.imgur.com/ZDZsSr1.png)"
   ]
  },
  {
   "cell_type": "markdown",
   "metadata": {},
   "source": [
    "![Imgur](https://i.imgur.com/Xm5sKxD.png)"
   ]
  },
  {
   "cell_type": "markdown",
   "metadata": {},
   "source": [
    "![Imgur](https://i.imgur.com/GEG80ni.png)"
   ]
  },
  {
   "cell_type": "markdown",
   "metadata": {},
   "source": [
    "**A group of predictors is called an ensemble**; thus, this technique is called Ensemble Learning, and an Ensemble Learning algorithm is called an** Ensemble method.**\n",
    "\n",
    "Suppose you ask a complex question to thousands of random people, then aggregate their answers. In many cases you will find that this aggregated answer is better than an expert's answer. This is called **the wisdom of the crowd**\n",
    "\n",
    "Likewise, if you aggregate the predictions of a group of predictors (e.g. decision tree classifer, SVM, logistic regression), you will often get better predictions than with the best individual predictor."
   ]
  },
  {
   "cell_type": "markdown",
   "metadata": {},
   "source": [
    "**Types of ensembling :****"
   ]
  },
  {
   "cell_type": "markdown",
   "metadata": {},
   "source": [
    " **Basic Ensemble Techniques**\n",
    "\n",
    "*     Max Voting\n",
    "*     Averaging\n",
    "*     Weighted Average\n",
    "\n",
    "**Advanced Ensemble Techniques**\n",
    "\n",
    "* Stacking\n",
    "* Blending\n",
    "* Bagging\n",
    "* Boosting\n",
    "\n",
    "**Algorithms based on Bagging and Boosting**\n",
    "\n",
    "> * Bagging meta-estimator\n",
    "* Random Forest\n",
    "* AdaBoost\n",
    "* GBM\n",
    "* XGB\n",
    "* Light GBM\n",
    "* CatBoost\n",
    "\n"
   ]
  },
  {
   "cell_type": "markdown",
   "metadata": {},
   "source": [
    "lets talk first about Max voting"
   ]
  },
  {
   "cell_type": "markdown",
   "metadata": {},
   "source": [
    "**Max Voting\n",
    "**\n"
   ]
  },
  {
   "cell_type": "markdown",
   "metadata": {},
   "source": [
    "The max voting method is generally used for classification problems. In this technique, multiple models are used to make predictions for each data point. The predictions by each model are considered as a ‘vote’. The predictions which we get from the majority of the models are used as the final prediction.\n",
    "\n",
    "For example, when you asked 5 of your colleagues to rate your movie (out of 5); we’ll assume three of them rated it as 4 while two of them gave it a 5. Since the majority gave a rating of 4, the final rating will be taken as 4. You can consider this as taking the mode of all the predictions.\n",
    "\n",
    "The result of max voting would be something like this:\n",
    "\n",
    "Colleague 1-5\n",
    "\n",
    "Colleague 2-4\n",
    "\n",
    "Colleague 3-5\n",
    "\n",
    "Colleague 4-4\n",
    "\n",
    "Colleague 5-4\n",
    "\n",
    "Finalrating-4"
   ]
  },
  {
   "cell_type": "markdown",
   "metadata": {},
   "source": [
    "**Code in python**"
   ]
  },
  {
   "cell_type": "markdown",
   "metadata": {},
   "source": [
    "there are 2 methods :\n",
    "\n",
    "1-Mode\n",
    "\n",
    "2-Voting classifier"
   ]
  },
  {
   "cell_type": "code",
   "execution_count": null,
   "metadata": {
    "_kg_hide-output": true
   },
   "outputs": [],
   "source": [
    "model1 = tree.DecisionTreeClassifier()\n",
    "model2 = KNeighborsClassifier()\n",
    "model3= LogisticRegression()\n",
    "\n",
    "model1.fit(x_train,y_train)\n",
    "model2.fit(x_train,y_train)\n",
    "model3.fit(x_train,y_train)\n",
    "\n",
    "pred1=model1.predict(x_test)\n",
    "pred2=model2.predict(x_test)\n",
    "pred3=model3.predict(x_test)\n",
    "\n",
    "final_pred = np.array([])\n",
    "for i in range(0,len(x_test)):\n",
    "    final_pred = np.append(final_pred, mode([pred1[i], pred2[i], pred3[i]]))"
   ]
  },
  {
   "cell_type": "code",
   "execution_count": null,
   "metadata": {
    "_kg_hide-output": true
   },
   "outputs": [],
   "source": [
    "from sklearn.ensemble import VotingClassifier\n",
    "model1 = LogisticRegression(random_state=1)\n",
    "model2 = tree.DecisionTreeClassifier(random_state=1)\n",
    "model = VotingClassifier(estimators=[('lr', model1), ('dt', model2)], voting='hard')\n",
    "model.fit(x_train,y_train)\n",
    "model.score(x_test,y_test)"
   ]
  },
  {
   "cell_type": "markdown",
   "metadata": {},
   "source": [
    "**Majority Voting / Hard Voting\n",
    "**\n"
   ]
  },
  {
   "cell_type": "markdown",
   "metadata": {},
   "source": [
    "**Hard voting **\n",
    "\n",
    "is the simplest case of majority voting. Here, we predict the class label y^ via majority (plurality) voting of each classifier\n",
    "\n",
    "y^=mode{C1(x),C2(x),...,Cm(x)}\n",
    "\n",
    "Assuming that we combine three classifiers that classify a training sample as follows:\n",
    "\n",
    "classifier 1 -> class 0 classifier 2 -> class 0 classifier 3 -> class 1\n",
    "\n",
    "y^=mode{0,0,1}=0\n",
    "\n",
    "Via majority vote, we would we would classify the sample as \"class 0.\""
   ]
  },
  {
   "cell_type": "markdown",
   "metadata": {},
   "source": [
    "**Soft Voting\n",
    "**\n"
   ]
  },
  {
   "cell_type": "markdown",
   "metadata": {},
   "source": [
    "If all classifiers are able to estimate class probabilities (i.e. they have a predict_proba() method), then you can tell Scikit-Learn to predict the class with the highest class probability, averaged over all the individual classifiers.\n",
    "\n",
    "This is called **soft voting** and it often achieves higher performance than hard voting because *it gives more weight to highly confident votes*.\n",
    "\n",
    "To perform soft voting, all you need to do is **replace** voting='hard' with voting='soft' **and ensure that all classifiers can estimate class probabilities.\n",
    "\n",
    "**The SVC class can't estimate class probabilities by default**, so you'll need to set its probability hyperparameter to **True**, as this will make the SVC class use cross-validation to estimate class probabilities (which slows training down), and it will add a predict_proba() method.\n",
    "\n",
    "**In soft voting**, we predict the class labels based on the predicted probabilities p for classifier -- this approach is only recommended if the classifiers are **well-calibrated**.\n",
    "\n",
    "*y^=argmaxi∑j=1mwjpij,* where **wj** is the weight that can be assigned to the **jth** classifier.\n",
    "\n",
    "Assuming the example in the previous section was a *binary classification* task with class labels i∈{0,1}, our ensemble could make the following prediction:\n",
    "\n",
    "C1(x)→[0.9,0.1]\n",
    "\n",
    "C2(x)→[0.8,0.2]\n",
    "\n",
    "C3(x)→[0.4,0.6]\n",
    "\n",
    "Using uniform weights, we compute the average probabilities:\n",
    "\n",
    "p(i0∣x)=0.9+0.8+0.43=0.7p(i1∣x)=0.1+0.2+0.63=0.3\n",
    "\n",
    "y^=argmaxi[p(i0∣x),p(i1∣x)]=0\n",
    "\n",
    "However, assigning the weights {0.1, 0.1, 0.8} would yield a prediction y^=1:\n",
    "\n",
    "p(i0∣x)=0.1×0.9+0.1×0.8+0.8×0.4=0.49p(i1∣x)=0.1×0.1+0.2×0.1+0.8×0.6=0.51\n",
    "\n",
    "y^=argmaxi[p(i0∣x),p(i1∣x)]=1"
   ]
  },
  {
   "cell_type": "markdown",
   "metadata": {},
   "source": [
    "**Averaging**\n",
    "\n",
    "Similar to the max voting technique, multiple predictions are made for each data point in averaging. In this method, we take an **average** of predictions from all the models and use it to make the final prediction.Averaging can be used for making predictions in regression problems or while calculating probabilities for classification problems.For example, in the below case, the averaging method would take the average of all the values.\n",
    "\n",
    "*i.e. (5+4+5+4+4)/5 = 4.4*"
   ]
  },
  {
   "cell_type": "markdown",
   "metadata": {},
   "source": [
    "**Code in python**\n"
   ]
  },
  {
   "cell_type": "code",
   "execution_count": null,
   "metadata": {
    "_kg_hide-output": true
   },
   "outputs": [],
   "source": [
    "model1 = tree.DecisionTreeClassifier()\n",
    "model2 = KNeighborsClassifier()\n",
    "model3= LogisticRegression()\n",
    "\n",
    "model1.fit(x_train,y_train)\n",
    "model2.fit(x_train,y_train)\n",
    "model3.fit(x_train,y_train)\n",
    "\n",
    "pred1=model1.predict_proba(x_test)\n",
    "pred2=model2.predict_proba(x_test)\n",
    "pred3=model3.predict_proba(x_test)\n",
    "\n",
    "finalpred=(pred1+pred2+pred3)/3"
   ]
  },
  {
   "cell_type": "markdown",
   "metadata": {},
   "source": [
    "**Weighted Average\n",
    "**"
   ]
  },
  {
   "cell_type": "markdown",
   "metadata": {},
   "source": [
    "**This is an extension of the averaging method.** All models are assigned different weights defining the importance of each model for prediction. For instance, if two of your colleagues are critics, while others have no prior experience in this field, then the answers by these two friends are given more importance as compared to the other people.\n",
    "\n",
    "The result is calculated as\n",
    "\n",
    "*[(50.23) + (40.23) + (50.18) + (40.18) + (4*0.18)] = 4.41.*"
   ]
  },
  {
   "cell_type": "markdown",
   "metadata": {},
   "source": [
    "![Imgur](https://i.imgur.com/J9drqs1.png)"
   ]
  },
  {
   "cell_type": "markdown",
   "metadata": {},
   "source": [
    "**Code in python**"
   ]
  },
  {
   "cell_type": "code",
   "execution_count": null,
   "metadata": {
    "_kg_hide-output": true
   },
   "outputs": [],
   "source": [
    "model1 = tree.DecisionTreeClassifier()\n",
    "model2 = KNeighborsClassifier()\n",
    "model3= LogisticRegression()\n",
    "\n",
    "model1.fit(x_train,y_train)\n",
    "model2.fit(x_train,y_train)\n",
    "model3.fit(x_train,y_train)\n",
    "\n",
    "pred1=model1.predict_proba(x_test)\n",
    "pred2=model2.predict_proba(x_test)\n",
    "pred3=model3.predict_proba(x_test)\n",
    "\n",
    "finalpred=(pred1*0.3+pred2*0.3+pred3*0.4)"
   ]
  },
  {
   "cell_type": "markdown",
   "metadata": {},
   "source": [
    "**Advanced Ensemble techniques**\n"
   ]
  },
  {
   "cell_type": "markdown",
   "metadata": {},
   "source": [
    "**Bagging**"
   ]
  },
  {
   "cell_type": "markdown",
   "metadata": {},
   "source": [
    "**Bagging** is very common in competitions. I don’t think I have ever seen anybody win without using it. But, in order for this to work, your data must have *variance*, otherwise you’re just adding levels after levels of additional iterations with **little benefit** to your score and a big headache for those maintaining your modeling pipeline in production. Even when it does improve things, you have to asked yourself if its worth all that extra work…"
   ]
  },
  {
   "cell_type": "markdown",
   "metadata": {},
   "source": [
    "In simple terms, **bagging irons out variance from a data set** . If, after splitting your data into multiple chunks and training them, you find that your predictions are *different*, then your data has *variance*. Bagging can turn a bad thing into a competitive advantage. For more theory behind the magic, check out *Bootstrap Aggregating on Wikipedia.* Bagging was invented by *Leo Breiman* at the University of California. He is also one of the grandfathers of Boosting and Random Forests."
   ]
  },
  {
   "cell_type": "markdown",
   "metadata": {},
   "source": [
    "**Stability and Accuracy**\n"
   ]
  },
  {
   "cell_type": "markdown",
   "metadata": {},
   "source": [
    "By saving each prediction set and averaging them together, you not only lower variance without affecting bias, but your accuracy may be **improved**! In essence, you are creating many slightly different models and ensembling them together; **this avoids over-fitting**, **stabilizes your predictions and increases your accuracy**. Mind you, this assumes your data has variance, if it doesn’t,**bagging won’t help.**"
   ]
  },
  {
   "cell_type": "markdown",
   "metadata": {},
   "source": [
    "Bagging is based on the *statistical method of bootstrapping*, Bagging actually refers to (Bootstrap Aggregators). Most any paper or post that references using bagging algorithms will also reference Leo Breiman who wrote a paper in 1996 called “*Bagging Predictors*”."
   ]
  },
  {
   "cell_type": "markdown",
   "metadata": {},
   "source": [
    "1-we make subsets with replacement: that means every item may appears in different subsets.\n",
    "\n",
    "2-apply model for every subset of the sample.\n",
    "\n",
    "3-The models run in parallel and are independent of each other.\n",
    "\n",
    "4-predict x-text by using each model\n",
    "\n",
    "5-then aggregate their predictions (either by voting or by averaging) to form a final prediction."
   ]
  },
  {
   "cell_type": "markdown",
   "metadata": {},
   "source": [
    "![Imgur](https://i.imgur.com/eu95V9N.png)"
   ]
  },
  {
   "cell_type": "markdown",
   "metadata": {},
   "source": [
    "**Bagging algorithms:**\n"
   ]
  },
  {
   "cell_type": "markdown",
   "metadata": {},
   "source": [
    "\n",
    "* Bagging meta-estimator\n",
    "* Random forest"
   ]
  },
  {
   "cell_type": "markdown",
   "metadata": {},
   "source": [
    "**Bagging meta-estimator**"
   ]
  },
  {
   "cell_type": "markdown",
   "metadata": {},
   "source": [
    "**Bagging meta-estimator** is an ensembling algorithm that can be used for **both** classification (BaggingClassifier) and regression (BaggingRegressor) problems. It follows the typical bagging technique to make predictions. Following are the steps for the bagging meta-estimator algorithm:\n",
    "\n",
    "1-Random subsets are created from the original dataset (Bootstrapping).\n",
    "\n",
    "2-The subset of the dataset includes all features.\n",
    "\n",
    "3-A user-specified base estimator is fitted on each of these smaller sets.\n",
    "\n",
    "4-Predictions from each model are combined to get the final result."
   ]
  },
  {
   "cell_type": "markdown",
   "metadata": {},
   "source": [
    "**Code in python**"
   ]
  },
  {
   "cell_type": "code",
   "execution_count": null,
   "metadata": {
    "_kg_hide-output": true
   },
   "outputs": [],
   "source": [
    "final_dt = DecisionTreeClassifier(max_leaf_nodes=10, max_depth=5)                   \n",
    "final_bc = BaggingClassifier(base_estimator=final_dt, n_estimators=40, random_state=1, oob_score=True)\n",
    "\n",
    "final_bc.fit(X_train, train_y)\n",
    "final_preds = final_bc.predict(X_test)\n",
    "\n",
    "\n",
    "acc_oob = final_bc.oob_score_\n",
    "print(acc_oob)  \n"
   ]
  },
  {
   "cell_type": "markdown",
   "metadata": {},
   "source": [
    "where :\n",
    "\n",
    "**base_estimator:**\n",
    "It defines the base estimator to fit on random subsets of the dataset. When nothing is specified, the base estimator is a decision tree.\n",
    "\n",
    "**n_estimators:**\n",
    "It is the number of base estimators to be created. The number of estimators should be carefully tuned as a large number would take a very long time to run, while a very small number might not provide the best results.\n",
    "\n",
    "**max_samples:**\n",
    "This parameter controls the size of the subsets. It is the maximum number of samples to train each base estimator.\n",
    "\n",
    "**max_features:**\n",
    "Controls the number of features to draw from the whole dataset. It defines the maximum number of features required to train each base estimator.\n",
    "\n",
    "**n_jobs:**\n",
    "The number of jobs to run in parallel. Set this value equal to the cores in your system. If -1, the number of jobs is set to the number of cores.\n",
    "\n",
    "**random_state:**\n",
    "It specifies the method of random split. When random state value is same for two models, the random selection is same for both models. This parameter is useful when you want to compare different models."
   ]
  },
  {
   "cell_type": "markdown",
   "metadata": {},
   "source": [
    "**Random Forest**\n"
   ]
  },
  {
   "cell_type": "markdown",
   "metadata": {},
   "source": [
    "**Random Forest** is another ensemble machine learning algorithm that follows the bagging technique. It is an extension of the bagging estimator algorithm. The base estimators in random forest are decision trees. Unlike bagging meta estimator, random forest **randomly** selects a set of features which are used to decide the best split at each node of the decision tree."
   ]
  },
  {
   "cell_type": "markdown",
   "metadata": {},
   "source": [
    "step-by-step, this is what a random forest model does:\n",
    "\n",
    "1-Random subsets are created from the original dataset (bootstrapping).\n",
    "\n",
    "2-At each node in the decision tree, only a random set of features are considered to decide the best split.\n",
    "\n",
    "3-A decision tree model is fitted on each of the subsets. The final prediction is calculated by averaging the predictions from all decision trees.\n",
    "\n",
    "**Note:** The decision trees in random forest can be built on a subset of data and features. Particularly, the sklearn model of random forest uses all features for decision tree and a subset of features are randomly selected for splitting at each node.\n",
    "\n",
    "**To sum up, Random forest randomly selects data points and features, and builds multiple trees (Forest) .**"
   ]
  },
  {
   "cell_type": "markdown",
   "metadata": {},
   "source": [
    "**Code in python**"
   ]
  },
  {
   "cell_type": "code",
   "execution_count": null,
   "metadata": {
    "_kg_hide-output": true
   },
   "outputs": [],
   "source": [
    "from sklearn.ensemble import RandomForestClassifier\n",
    "model= RandomForestClassifier(random_state=1)\n",
    "model.fit(x_train, y_train)\n",
    "model.score(x_test,y_test)"
   ]
  },
  {
   "cell_type": "markdown",
   "metadata": {},
   "source": [
    "You can see feature importance by using **model.featureimportances** in random forest.\n",
    "\n"
   ]
  },
  {
   "cell_type": "markdown",
   "metadata": {},
   "source": [
    "**Sample code for regression problem:**\n"
   ]
  },
  {
   "cell_type": "code",
   "execution_count": null,
   "metadata": {
    "_kg_hide-output": true
   },
   "outputs": [],
   "source": [
    "from sklearn.ensemble import RandomForestRegressor\n",
    "model= RandomForestRegressor()\n",
    "model.fit(x_train, y_train)\n",
    "model.score(x_test,y_test)"
   ]
  },
  {
   "cell_type": "markdown",
   "metadata": {},
   "source": [
    "Parameters :\n",
    "\n",
    "**n_estimators:**\n",
    "It defines the number of decision trees to be created in a random forest. Generally, a higher number makes the predictions stronger and more stable, but a very large number can result in higher training time.\n",
    "\n",
    "**criterion:**\n",
    "It defines the function that is to be used for splitting. The function measures the quality of a split for each feature and chooses the best split.\n",
    "\n",
    "**max_features :**\n",
    "It defines the maximum number of features allowed for the split in each decision tree. Increasing max features usually improve performance but a very high number can decrease the diversity of each tree.\n",
    "\n",
    "**max_depth:**\n",
    "Random forest has multiple decision trees. This parameter defines the maximum depth of the trees. min_samples_split: Used to define the minimum number of samples required in a leaf node before a split is attempted. If the number of samples is less than the required number, the node is not split.\n",
    "\n",
    "**min_samples_leaf:**\n",
    "This defines the minimum number of samples required to be at a leaf node. Smaller leaf size makes the model more prone to capturing noise in train data.\n",
    "\n",
    "**max_leaf_nodes:**\n",
    "This parameter specifies the maximum number of leaf nodes for each tree. The tree stops splitting when the number of leaf nodes becomes equal to the max leaf node.\n",
    "\n",
    "**n_jobs:**\n",
    "This indicates the number of jobs to run in parallel. S"
   ]
  },
  {
   "cell_type": "markdown",
   "metadata": {},
   "source": [
    "**Boosting**\n"
   ]
  },
  {
   "cell_type": "markdown",
   "metadata": {},
   "source": [
    "The term ‘Boosting’ refers to a family of algorithms which **converts weak learner to strong learners**. Boosting is an ensemble method for improving the model predictions of any given learning algorithm. The idea of boosting **is to train weak learners sequentially, each trying to correct its predecessor**.\n",
    "\n",
    "Boosting is all about “*teamwork*”. Each model that runs, dictates what features the next model will focus on."
   ]
  },
  {
   "cell_type": "markdown",
   "metadata": {},
   "source": [
    "**AdaBoost**\n"
   ]
  },
  {
   "cell_type": "markdown",
   "metadata": {},
   "source": [
    "**Adaptive boosting or AdaBoost** is one of the simplest boosting algorithms. Usually, decision trees are used for modelling. Multiple sequential models are created, each correcting the errors from the last model. AdaBoost assigns weights to the observations which are incorrectly predicted and the subsequent model works to predict these values correctly.\n",
    "\n",
    "**steps:**\n",
    "\n",
    "1-all observations in the dataset are given equal weights.\n",
    "\n",
    "2-A model is built on a subset of data.\n",
    "\n",
    "3-Using this model, predictions are made on the whole dataset.\n",
    "\n",
    "4-Errors are calculated by comparing the predictions and actual values.\n",
    "\n",
    "5-While creating the next model, higher weights are given to the data points which were predicted incorrectly.\n",
    "\n",
    "6-Weights can be determined using the error value. For instance, higher the error more is the weight assigned to the observation.\n",
    "\n",
    "7-This process is repeated until the error function does not change, or the maximum limit of the number of estimators is reached."
   ]
  },
  {
   "cell_type": "markdown",
   "metadata": {},
   "source": [
    "**Code in python**"
   ]
  },
  {
   "cell_type": "code",
   "execution_count": null,
   "metadata": {
    "_kg_hide-output": true,
    "collapsed": true
   },
   "outputs": [],
   "source": [
    "from sklearn.ensemble import AdaBoostClassifier\n",
    "model = AdaBoostClassifier(random_state=1)\n",
    "model.fit(x_train, y_train)\n",
    "model.score(x_test,y_test)\n",
    "\n",
    "\n",
    "#Sample code for regression problem:\n",
    "\n",
    "from sklearn.ensemble import AdaBoostRegressor\n",
    "model = AdaBoostRegressor()\n",
    "model.fit(x_train, y_train)\n",
    "model.score(x_test,y_test)"
   ]
  },
  {
   "cell_type": "markdown",
   "metadata": {},
   "source": [
    "**Parameters**\n",
    "\n",
    "**base_estimators:**\n",
    "It helps to specify the type of base estimator, that is, the machine learning algorithm to be used as base learner.\n",
    "\n",
    "**n_estimators:**\n",
    "It defines the number of base estimators.\n",
    "The default value is 10, but you should keep a higher value to get better performance.\n",
    "\n",
    "**learning_rate:**\n",
    "This parameter controls the contribution of the estimators in the final combination.\n",
    "There is a trade-off between learning_rate and n_estimators.\n",
    "\n",
    "**max_depth:**\n",
    "Defines the maximum depth of the individual estimator.\n",
    "Tune this parameter for best performance.\n",
    "\n",
    "**n_jobs:**\n",
    "Specifies the number of processors it is allowed to use.\n",
    "Set value to -1 for maximum processors allowed.\n",
    "\n",
    "**random_state :**\n",
    "An integer value to specify the random data split.\n",
    "A definite value of random_state will always produce same results if given with same parameters and training data."
   ]
  },
  {
   "attachments": {},
   "cell_type": "markdown",
   "metadata": {},
   "source": [
    "**stacking**"
   ]
  },
  {
   "cell_type": "markdown",
   "metadata": {},
   "source": [
    "\n",
    "Stacking is a similar to boosting:\n",
    "\n",
    "you also apply several models to your original data. The difference here is, however, that you don't have just an empirical formula for your weight function, rather you introduce a meta-level and use another model/approach to estimate the input together with outputs of every model to estimate the weights or, in other words, to determine what models perform well and what badly given these input data. and finally I get its true illustration."
   ]
  },
  {
   "cell_type": "markdown",
   "metadata": {},
   "source": [
    "consider we have a dataset we splite our data set into 3 parts : training, validation , test"
   ]
  },
  {
   "cell_type": "markdown",
   "metadata": {},
   "source": [
    "![Imgur](https://i.imgur.com/EQYa8C8.png)"
   ]
  },
  {
   "cell_type": "markdown",
   "metadata": {},
   "source": [
    "then make this step"
   ]
  },
  {
   "cell_type": "markdown",
   "metadata": {},
   "source": [
    "![Imgur](https://i.imgur.com/fVazCYe.png)"
   ]
  },
  {
   "cell_type": "markdown",
   "metadata": {},
   "source": [
    "![Imgur](https://i.imgur.com/2zjxVBC.png)"
   ]
  },
  {
   "cell_type": "markdown",
   "metadata": {},
   "source": [
    "![Imgur](https://i.imgur.com/lpDhGd1.png)"
   ]
  },
  {
   "cell_type": "markdown",
   "metadata": {},
   "source": [
    "train algorythm 0 on **A** and make predictions for **B** and **C** and save to **B1,C1**\n",
    "\n",
    "train algorythm 1 on **A** and make predictions for **B** and **C** and save to **B1,C1**"
   ]
  },
  {
   "cell_type": "markdown",
   "metadata": {},
   "source": [
    "![Imgur](https://i.imgur.com/10slay8.png)"
   ]
  },
  {
   "cell_type": "markdown",
   "metadata": {},
   "source": [
    "**At this moment we stacked predictions to each others thats where stacking name comes from** and then"
   ]
  },
  {
   "cell_type": "markdown",
   "metadata": {},
   "source": [
    "train algorythm 2 on **A** and make predictions for **B** and **C** and save to **B1,C1**"
   ]
  },
  {
   "cell_type": "markdown",
   "metadata": {},
   "source": [
    "![Imgur](https://i.imgur.com/hfp6JGP.png)"
   ]
  },
  {
   "cell_type": "markdown",
   "metadata": {},
   "source": [
    "then we take the data from the validation set which we already knew and we are going to feed a new model .\n",
    "\n",
    "train algorythm 3 on **B1** and make predictions for **C1**"
   ]
  },
  {
   "cell_type": "markdown",
   "metadata": {},
   "source": [
    "![Imgur](https://i.imgur.com/md3L8yB.png)"
   ]
  },
  {
   "cell_type": "markdown",
   "metadata": {},
   "source": [
    "**Code in python**"
   ]
  },
  {
   "cell_type": "markdown",
   "metadata": {},
   "source": [
    "![Imgur](https://i.imgur.com/bfb2qlr.png)"
   ]
  },
  {
   "cell_type": "markdown",
   "metadata": {},
   "source": [
    "![Imgur](https://i.imgur.com/Bo4KItc.png)"
   ]
  },
  {
   "cell_type": "markdown",
   "metadata": {},
   "source": [
    "![Imgur](https://i.imgur.com/hGkZd9T.png)"
   ]
  },
  {
   "cell_type": "markdown",
   "metadata": {},
   "source": [
    "I hope that I give you a piece of introduction of ensembling methods and this is not the end of my tutorial but this is only the first episode and I will continue soon illustrating the remaining methods of ensemlbing techniques.\n"
   ]
  },
  {
   "cell_type": "markdown",
   "metadata": {},
   "source": [
    "resources :\n",
    "\n",
    "\n",
    "[Google](https://www.google.com/webhp?hl=en&sa=X&ved=0ahUKEwiU0c_cgOLhAhUjQxUIHfetDCwQPAgH)\n",
    "    \n",
    "\n",
    "[Analytics videa](https://www.analyticsvidhya.com/)\n",
    "    \n",
    "\n",
    "[youtube](https://www.youtube.com/)\n",
    "    \n",
    "\n",
    "[wikipedia](https://www.wikipedia.org/)\n",
    "    \n",
    "  \n",
    "  \n",
    "  and a lot of other resources .\n",
    "    thanks a lot."
   ]
  }
 ],
 "metadata": {
  "kernelspec": {
   "display_name": "base",
   "language": "python",
   "name": "python3"
  },
  "language_info": {
   "codemirror_mode": {
    "name": "ipython",
    "version": 3
   },
   "file_extension": ".py",
   "mimetype": "text/x-python",
   "name": "python",
   "nbconvert_exporter": "python",
   "pygments_lexer": "ipython3",
   "version": "3.8.8"
  },
  "vscode": {
   "interpreter": {
    "hash": "fb86c5e372bfe5d813b1cbc1070ec4aa4c75db0c83ff9e9751aacd15f8f7d009"
   }
  }
 },
 "nbformat": 4,
 "nbformat_minor": 1
}
